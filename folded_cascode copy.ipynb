{
 "cells": [
  {
   "cell_type": "markdown",
   "metadata": {},
   "source": [
    "## Run simulation and optimizations for the folded cascode example\n"
   ]
  },
  {
   "cell_type": "code",
   "execution_count": 1,
   "metadata": {},
   "outputs": [
    {
     "data": {
      "text/plain": [
       "<module 'ngspice' from '/home/nlourenco/Work/workspace-haicas/BAIcO/src/ngspice.py'>"
      ]
     },
     "execution_count": 1,
     "metadata": {},
     "output_type": "execute_result"
    }
   ],
   "source": [
    "import json\n",
    "import circuits as cir\n",
    "import optimizers as opt\n",
    "import ngspice\n",
    "import pandas as pd\n",
    "\n",
    "import importlib\n",
    "importlib.reload(cir)\n",
    "importlib.reload(opt)\n",
    "importlib.reload(ngspice)\n"
   ]
  },
  {
   "cell_type": "code",
   "execution_count": 2,
   "metadata": {
    "tags": []
   },
   "outputs": [
    {
     "name": "stdout",
     "output_type": "stream",
     "text": [
      "Simulation Results Typ Only\n",
      "    CL[pF]  DELTA_MNM1  DELTA_MNM2  DELTA_MNM3  DELTA_MNM4  DELTA_MNM5  \\\n",
      "TT     6.0    0.585495    0.739938    0.617564    0.619046    0.413995   \n",
      "\n",
      "    DELTA_MNM6  DELTA_MNM7  DELTA_MNM8  DELTA_MPM0  ...  VOV_MNM5  VOV_MNM6  \\\n",
      "TT    0.639173    0.402403    0.402872    0.472546  ...  0.001432  0.000963   \n",
      "\n",
      "    VOV_MNM7  VOV_MNM8  VOV_MPM0  VOV_MPM1  VOV_MPM3  VOV_MPM4  VOV_MPM5  \\\n",
      "TT -0.016224 -0.016224   0.37476  0.103984  1.307041  1.307041  0.405695   \n",
      "\n",
      "    VOV_MPM6  \n",
      "TT  0.407171  \n",
      "\n",
      "[1 rows x 42 columns]\n"
     ]
    }
   ],
   "source": [
    "#load the cicruit definitions and targets defined in circuit_setup.json\n",
    "folded_cascode = cir.Circuit(\"./circuit_examples/ptm130_folded_cascode/\", corners=None)\n",
    "\n",
    "#load a sample sizing\n",
    "with open(\"./circuit_examples/ptm130_folded_cascode/sizing_example.json\", 'r') as file:\n",
    "    sizing = json.load(file)\n",
    "\n",
    "simulation_result = folded_cascode.simulate(sizing)\n",
    "\n",
    "\n",
    "print(\"Simulation Results Typ Only\")\n",
    "\n",
    "df = pd.DataFrame(simulation_result[0]).transpose()\n",
    "\n",
    "df['CL'] *= 1e12  \n",
    "df.rename(columns = {\"CL\": \"CL[pF]\"}, inplace=True)  \n",
    "print(df)\n"
   ]
  },
  {
   "cell_type": "code",
   "execution_count": 3,
   "metadata": {
    "tags": []
   },
   "outputs": [
    {
     "name": "stdout",
     "output_type": "stream",
     "text": [
      "Simulation Results All Corners\n",
      "                       CL[pF]       GDC        GPS  INOISE_TOTAL  \\\n",
      "SS_VDD_MIN_TEMP_MAX       6.0 -86.95084 -75.768650  1.204242e-01   \n",
      "SS_VDD_MAX_TEMP_MIN       6.0  69.53510 -14.417560  4.667157e-07   \n",
      "FF_VDD_MAX_TEMP_MAX       6.0  87.51435 -18.703350  7.395473e-07   \n",
      "FF_VDD_MAX_TEMP_MIN       6.0  68.64928 -14.566390  2.497138e-07   \n",
      "TT                        6.0  88.39221  -3.418371  6.702275e-07   \n",
      "FF_VDD_MIN_TEMP_MAX       6.0  98.37739   6.757086  3.649574e-07   \n",
      "FF_VDD_MIN_TEMP_MIN       6.0  72.23919 -21.388510  5.345136e-07   \n",
      "SS_VDD_MIN_TEMP_MIN       6.0  80.83673  -5.460861  4.928744e-07   \n",
      "SNFP_VDD_MIN_TEMP_MAX     6.0 -87.04048 -63.453340  1.321339e-01   \n",
      "SNFP_VDD_MAX_TEMP_MAX     6.0  85.08479  -7.335310  8.044332e-07   \n",
      "SNFP_VDD_MAX_TEMP_MIN     6.0  63.25632 -13.049850  3.560017e-07   \n",
      "FNSP_VDD_MAX_TEMP_MIN     6.0  75.23211 -16.525670  3.501699e-07   \n",
      "SNFP_VDD_MIN_TEMP_MIN     6.0  68.89267 -18.217450  5.405864e-07   \n",
      "FNSP_VDD_MAX_TEMP_MAX     6.0  93.80227 -10.313470  5.440725e-07   \n",
      "FNSP_VDD_MIN_TEMP_MAX     6.0 -98.38497 -86.307360  4.153189e-01   \n",
      "SS_VDD_MAX_TEMP_MAX       6.0  95.32268  -1.444409  5.036067e-07   \n",
      "FNSP_VDD_MIN_TEMP_MIN     6.0  82.68885  -7.375030  5.104371e-07   \n",
      "\n",
      "                       ONOISE_TOTAL       IDD  OUTSWING  VOV_MPM0  VOV_MPM1  \\\n",
      "SS_VDD_MIN_TEMP_MAX    9.660120e-10  0.000097  1.558614  0.464440  0.132863   \n",
      "SS_VDD_MAX_TEMP_MIN    1.526398e-03  0.000880  1.462815  0.292345  0.088762   \n",
      "FF_VDD_MAX_TEMP_MAX    2.049507e-02  0.000351  1.487997  0.393639  0.115613   \n",
      "FF_VDD_MAX_TEMP_MIN    1.675400e-03  0.001285  1.437217  0.256196  0.088774   \n",
      "TT                     2.070569e-02  0.000300  1.510087  0.374760  0.103984   \n",
      "FF_VDD_MIN_TEMP_MAX    1.095987e-01  0.000185  1.546837  0.393639  0.108229   \n",
      "FF_VDD_MIN_TEMP_MIN    2.276666e-03  0.000688  1.483471  0.256196  0.062528   \n",
      "SS_VDD_MIN_TEMP_MIN    5.290678e-03  0.000396  1.521623  0.292345  0.077962   \n",
      "SNFP_VDD_MIN_TEMP_MAX  9.737580e-10  0.000154  1.558614  0.393639  0.108222   \n",
      "SNFP_VDD_MAX_TEMP_MAX  1.214318e-02  0.000318  1.487481  0.393639  0.110714   \n",
      "SNFP_VDD_MAX_TEMP_MIN  6.181835e-04  0.001212  1.433044  0.256196  0.079385   \n",
      "FNSP_VDD_MAX_TEMP_MIN  4.739208e-03  0.000942  1.464807  0.292345  0.096508   \n",
      "SNFP_VDD_MIN_TEMP_MIN  9.007063e-04  0.000612  1.489145  0.256196  0.062471   \n",
      "FNSP_VDD_MAX_TEMP_MAX  5.125872e-02  0.000245  1.521996  0.464440  0.136812   \n",
      "FNSP_VDD_MIN_TEMP_MAX  9.540728e-10  0.000118  1.556880  0.464440  0.132866   \n",
      "SS_VDD_MAX_TEMP_MAX    6.768291e-02  0.000218  1.528130  0.464440  0.133994   \n",
      "FNSP_VDD_MIN_TEMP_MIN  9.782670e-03  0.000454  1.514441  0.292345  0.077985   \n",
      "\n",
      "                       VOV_MPM3  ...  DELTA_MNM6  DELTA_MNM7  DELTA_MNM8  \\\n",
      "SS_VDD_MIN_TEMP_MAX    0.748826  ...   -0.045063   -0.045340   -0.045339   \n",
      "SS_VDD_MAX_TEMP_MIN    1.650990  ...    0.751504    0.498988    0.499475   \n",
      "FF_VDD_MAX_TEMP_MAX    1.644744  ...    0.609492    0.367885    0.368375   \n",
      "FF_VDD_MAX_TEMP_MIN    1.807170  ...    0.572970    0.444462    0.444723   \n",
      "TT                     1.307041  ...    0.639173    0.402403    0.402872   \n",
      "FF_VDD_MIN_TEMP_MAX    1.028660  ...    0.320273    0.264936    0.265045   \n",
      "FF_VDD_MIN_TEMP_MIN    1.257770  ...    0.573231    0.425121    0.425406   \n",
      "SS_VDD_MIN_TEMP_MIN    1.035214  ...    0.701649    0.463872    0.464324   \n",
      "SNFP_VDD_MIN_TEMP_MAX  0.895217  ...   -0.044712   -0.045079   -0.045079   \n",
      "SNFP_VDD_MAX_TEMP_MAX  1.538825  ...    0.809772    0.432788    0.433535   \n",
      "SNFP_VDD_MAX_TEMP_MIN  1.758459  ...    0.654409    0.510409    0.510700   \n",
      "FNSP_VDD_MAX_TEMP_MIN  1.707849  ...    0.644156    0.433887    0.434298   \n",
      "SNFP_VDD_MIN_TEMP_MIN  1.172635  ...    0.665940    0.486154    0.486494   \n",
      "FNSP_VDD_MAX_TEMP_MAX  1.520682  ...    0.453418    0.330959    0.331211   \n",
      "FNSP_VDD_MIN_TEMP_MAX  0.882167  ...   -0.046433   -0.046547   -0.046547   \n",
      "SS_VDD_MAX_TEMP_MAX    1.401704  ...    0.545540    0.385689    0.386020   \n",
      "FNSP_VDD_MIN_TEMP_MIN  1.120483  ...    0.603561    0.405834    0.406214   \n",
      "\n",
      "                              GBW  PM_NEGATIVE       PM       PSRR  \\\n",
      "SS_VDD_MIN_TEMP_MAX           NaN          NaN      NaN        NaN   \n",
      "SS_VDD_MAX_TEMP_MIN    46737210.0    -108.8653  71.1347   83.95266   \n",
      "FF_VDD_MAX_TEMP_MAX    32338310.0    -122.7734  57.2266  106.21770   \n",
      "FF_VDD_MAX_TEMP_MIN    58458860.0    -107.7896  72.2104   83.21567   \n",
      "TT                     31793610.0    -122.3191  57.6809   91.81058   \n",
      "FF_VDD_MIN_TEMP_MAX    18233250.0    -132.4969  47.5031   91.62030   \n",
      "FF_VDD_MIN_TEMP_MIN    42161240.0    -106.8764  73.1236   93.62770   \n",
      "SS_VDD_MIN_TEMP_MIN    39554440.0    -114.2310  65.7690   86.29759   \n",
      "SNFP_VDD_MIN_TEMP_MAX         NaN          NaN      NaN        NaN   \n",
      "SNFP_VDD_MAX_TEMP_MAX  28944150.0    -122.7914  57.2086   92.42010   \n",
      "SNFP_VDD_MAX_TEMP_MIN  50487600.0    -106.5604  73.4396   76.30617   \n",
      "FNSP_VDD_MAX_TEMP_MIN  52840020.0    -109.6692  70.3308   91.75778   \n",
      "SNFP_VDD_MIN_TEMP_MIN  40677850.0    -108.4439  71.5561   87.11012   \n",
      "FNSP_VDD_MAX_TEMP_MAX  27325650.0    -130.9001  49.0999  104.11570   \n",
      "FNSP_VDD_MIN_TEMP_MAX         NaN          NaN      NaN        NaN   \n",
      "SS_VDD_MAX_TEMP_MAX    23641690.0    -131.6557  48.3443   96.76709   \n",
      "FNSP_VDD_MIN_TEMP_MIN  41475270.0    -111.9142  68.0858   90.06388   \n",
      "\n",
      "                           SDINOISE      SDONOISE         FOM  \n",
      "SS_VDD_MIN_TEMP_MAX             NaN           NaN         NaN  \n",
      "SS_VDD_MAX_TEMP_MIN    6.507078e-17  6.601608e-17  318.757916  \n",
      "FF_VDD_MAX_TEMP_MAX    5.726220e-17  6.934353e-17  552.700609  \n",
      "FF_VDD_MAX_TEMP_MIN    5.314075e-17  5.440979e-17  272.930347  \n",
      "TT                     5.468791e-17  6.346895e-17  636.744965  \n",
      "FF_VDD_MIN_TEMP_MAX    5.215786e-17  6.045157e-17  590.563359  \n",
      "FF_VDD_MIN_TEMP_MIN    7.219787e-17  7.423803e-17  367.743334  \n",
      "SS_VDD_MIN_TEMP_MIN    5.324741e-17  6.086957e-17  598.586858  \n",
      "SNFP_VDD_MIN_TEMP_MAX           NaN           NaN         NaN  \n",
      "SNFP_VDD_MAX_TEMP_MAX  6.364231e-17  7.707861e-17  545.708644  \n",
      "SNFP_VDD_MAX_TEMP_MIN  6.704320e-17  8.010078e-17  249.908716  \n",
      "FNSP_VDD_MAX_TEMP_MIN  5.424963e-17  5.657792e-17  336.552777  \n",
      "SNFP_VDD_MIN_TEMP_MIN  6.956561e-17  8.401470e-17  398.807143  \n",
      "FNSP_VDD_MAX_TEMP_MAX  4.918716e-17  5.170397e-17  668.247407  \n",
      "FNSP_VDD_MIN_TEMP_MAX           NaN           NaN         NaN  \n",
      "SS_VDD_MAX_TEMP_MAX    5.121620e-17  6.675239e-17  649.282632  \n",
      "FNSP_VDD_MIN_TEMP_MIN  5.539018e-17  7.017712e-17  548.082308  \n",
      "\n",
      "[17 rows x 42 columns]\n"
     ]
    }
   ],
   "source": [
    "#load the cicruit definitions and targets defined in circuit_setup.json with corners from corners.inc\n",
    "folded_cascode = cir.Circuit(\"./circuit_examples/ptm130_folded_cascode/\")\n",
    "\n",
    "#load a sample sizing\n",
    "with open(\"./circuit_examples/ptm130_folded_cascode/sizing_example.json\", 'r') as file:\n",
    "    sizing = json.load(file)\n",
    "\n",
    "simulation_result = folded_cascode.simulate(sizing)\n",
    "\n",
    "\n",
    "print(\"Simulation Results All Corners\")\n",
    "df = pd.DataFrame(simulation_result[0]).transpose()\n",
    "\n",
    "# rescale CL to show not 0 in df\n",
    "df['CL'] *= 1e12\n",
    "df.rename(columns = {\"CL\": \"CL[pF]\"}, inplace=True)  \n",
    "print(df)"
   ]
  },
  {
   "cell_type": "code",
   "execution_count": 4,
   "metadata": {
    "tags": []
   },
   "outputs": [
    {
     "name": "stdout",
     "output_type": "stream",
     "text": [
      "Objectives\n",
      "{'IDD': 0.001285138, 'GBW': -inf, 'GDC': -98.38497}\n"
     ]
    }
   ],
   "source": [
    "obj,cstr,log = folded_cascode.target.evaluate(simulation_result[0])\n",
    "\n",
    "print(\"Objectives\")\n",
    "\n",
    "print( {folded_cascode.objectives[i][0]:(obj[i]*folded_cascode.objectives[i][1]) for i in range(len(obj))})"
   ]
  },
  {
   "cell_type": "markdown",
   "metadata": {},
   "source": [
    "## Optimizing in Nominal conditions\n",
    "\n",
    "Outputs are save to the output_folder\n",
    "\n",
    "This can take a while.\n"
   ]
  },
  {
   "cell_type": "code",
   "execution_count": 5,
   "metadata": {
    "tags": []
   },
   "outputs": [
    {
     "name": "stdout",
     "output_type": "stream",
     "text": [
      "0 [-2.46806649] 23:23:14.820405\n",
      "1 [-1.08976006] 23:23:24.402123\n",
      "2 [-1.08976006] 23:24:13.973775\n",
      "3 [-1.08976006] 23:25:24.630437\n",
      "4 [-1.08976006] 23:25:38.176217\n",
      "5 [-0.42640318] 23:26:10.314253\n",
      "6 [-0.42640318] 23:26:18.981350\n"
     ]
    },
    {
     "ename": "KeyboardInterrupt",
     "evalue": "",
     "output_type": "error",
     "traceback": [
      "\u001b[0;31m---------------------------------------------------------------------------\u001b[0m",
      "\u001b[0;31mKeyboardInterrupt\u001b[0m                         Traceback (most recent call last)",
      "\u001b[1;32m/home/nlourenco/Work/workspace-haicas/BAIcO/folded_cascode.ipynb Cell 7\u001b[0m in \u001b[0;36m<cell line: 22>\u001b[0;34m()\u001b[0m\n\u001b[1;32m     <a href='vscode-notebook-cell:/home/nlourenco/Work/workspace-haicas/BAIcO/folded_cascode.ipynb#W6sZmlsZQ%3D%3D?line=19'>20</a>\u001b[0m i \u001b[39m=\u001b[39m \u001b[39m0\u001b[39m\n\u001b[1;32m     <a href='vscode-notebook-cell:/home/nlourenco/Work/workspace-haicas/BAIcO/folded_cascode.ipynb#W6sZmlsZQ%3D%3D?line=20'>21</a>\u001b[0m folded_cascode \u001b[39m=\u001b[39m cir\u001b[39m.\u001b[39mCircuit(\u001b[39m\"\u001b[39m\u001b[39m./circuit_examples/ptm130_folded_cascode/\u001b[39m\u001b[39m\"\u001b[39m, corners\u001b[39m=\u001b[39m\u001b[39mNone\u001b[39;00m)\n\u001b[0;32m---> <a href='vscode-notebook-cell:/home/nlourenco/Work/workspace-haicas/BAIcO/folded_cascode.ipynb#W6sZmlsZQ%3D%3D?line=21'>22</a>\u001b[0m \u001b[39mfor\u001b[39;00m pop, pop_obj,  pop_cstr, pop_data, evals, front_no \u001b[39min\u001b[39;00m nsga2\u001b[39m.\u001b[39mminimize(\n\u001b[1;32m     <a href='vscode-notebook-cell:/home/nlourenco/Work/workspace-haicas/BAIcO/folded_cascode.ipynb#W6sZmlsZQ%3D%3D?line=22'>23</a>\u001b[0m         folded_cascode,pop_size\u001b[39m=\u001b[39m\u001b[39m256\u001b[39m, evaluations\u001b[39m=\u001b[39m\u001b[39m256\u001b[39m\u001b[39m*\u001b[39m\u001b[39m100\u001b[39m, mutation\u001b[39m=\u001b[39m\u001b[39m0.1\u001b[39m, crossover\u001b[39m=\u001b[39m\u001b[39m0.6\u001b[39m):\n\u001b[1;32m     <a href='vscode-notebook-cell:/home/nlourenco/Work/workspace-haicas/BAIcO/folded_cascode.ipynb#W6sZmlsZQ%3D%3D?line=24'>25</a>\u001b[0m         \u001b[39mprint\u001b[39m(i, pop_cstr[pop_cstr\u001b[39m.\u001b[39margmax()], datetime\u001b[39m.\u001b[39mnow()\u001b[39m.\u001b[39mtime())\n\u001b[1;32m     <a href='vscode-notebook-cell:/home/nlourenco/Work/workspace-haicas/BAIcO/folded_cascode.ipynb#W6sZmlsZQ%3D%3D?line=25'>26</a>\u001b[0m         \u001b[39mwith\u001b[39;00m \u001b[39mopen\u001b[39m(\u001b[39m\"\u001b[39m\u001b[39m{}\u001b[39;00m\u001b[39mhistory256_\u001b[39m\u001b[39m{}\u001b[39;00m\u001b[39m_\u001b[39m\u001b[39m{}\u001b[39;00m\u001b[39m.json\u001b[39m\u001b[39m\"\u001b[39m\u001b[39m.\u001b[39mformat(output_folder,seed, i), \u001b[39m\"\u001b[39m\u001b[39mw\u001b[39m\u001b[39m\"\u001b[39m) \u001b[39mas\u001b[39;00m file: \n",
      "File \u001b[0;32m~/Work/workspace-haicas/BAIcO/src/optimizers.py:354\u001b[0m, in \u001b[0;36mNSGA2.minimize\u001b[0;34m(self, problem, pop_size, evaluations, mutation, crossover, initial_pop)\u001b[0m\n\u001b[1;32m    351\u001b[0m \u001b[39mwhile\u001b[39;00m evals \u001b[39m>\u001b[39m \u001b[39m0\u001b[39m:\n\u001b[1;32m    352\u001b[0m     mating_pool \u001b[39m=\u001b[39m tournament(front_no, crowd_dis)       \n\u001b[0;32m--> 354\u001b[0m     \u001b[39mself\u001b[39m\u001b[39m.\u001b[39moffspring_dec, \u001b[39mself\u001b[39m\u001b[39m.\u001b[39moffspring_obj, \u001b[39mself\u001b[39m\u001b[39m.\u001b[39moffspring_cstr, \u001b[39mself\u001b[39m\u001b[39m.\u001b[39moffspring_data \u001b[39m=\u001b[39m problem\u001b[39m.\u001b[39;49mindividual(\n\u001b[1;32m    355\u001b[0m         problem\u001b[39m.\u001b[39;49mvariation(\u001b[39mself\u001b[39;49m\u001b[39m.\u001b[39;49mpop[mating_pool, :], mutation \u001b[39m=\u001b[39;49m mutation, crossover\u001b[39m=\u001b[39;49m crossover ))\n\u001b[1;32m    357\u001b[0m     \u001b[39mself\u001b[39m\u001b[39m.\u001b[39mpop \u001b[39m=\u001b[39m np\u001b[39m.\u001b[39mvstack((\u001b[39mself\u001b[39m\u001b[39m.\u001b[39mpop, \u001b[39mself\u001b[39m\u001b[39m.\u001b[39moffspring_dec))\n\u001b[1;32m    358\u001b[0m     \u001b[39mself\u001b[39m\u001b[39m.\u001b[39mpop_obj \u001b[39m=\u001b[39m np\u001b[39m.\u001b[39mvstack((\u001b[39mself\u001b[39m\u001b[39m.\u001b[39mpop_obj, \u001b[39mself\u001b[39m\u001b[39m.\u001b[39moffspring_obj))\n",
      "File \u001b[0;32m~/Work/workspace-haicas/BAIcO/src/optimizers.py:76\u001b[0m, in \u001b[0;36mProblem.individual\u001b[0;34m(self, pop_vars)\u001b[0m\n\u001b[1;32m     70\u001b[0m \u001b[39mdef\u001b[39;00m \u001b[39mindividual\u001b[39m(\u001b[39mself\u001b[39m, pop_vars):\n\u001b[1;32m     71\u001b[0m     \u001b[39m\"\"\"\u001b[39;00m\n\u001b[1;32m     72\u001b[0m \u001b[39m    turn decision vectors into individuals\u001b[39;00m\n\u001b[1;32m     73\u001b[0m \u001b[39m    :param pop_vars: decision vectors\u001b[39;00m\n\u001b[1;32m     74\u001b[0m \u001b[39m    :return: (pop_vars, pop_obj, pop_cstr)\u001b[39;00m\n\u001b[1;32m     75\u001b[0m \u001b[39m    \"\"\"\u001b[39;00m\n\u001b[0;32m---> 76\u001b[0m     pop_obj, pop_cstr, pop_data \u001b[39m=\u001b[39m \u001b[39mself\u001b[39;49m\u001b[39m.\u001b[39;49mcost_fun(pop_vars)\n\u001b[1;32m     77\u001b[0m     \u001b[39mreturn\u001b[39;00m (pop_vars, pop_obj, pop_cstr, pop_data)\n",
      "File \u001b[0;32m~/Work/workspace-haicas/BAIcO/src/circuits.py:117\u001b[0m, in \u001b[0;36mCircuit.cost_fun\u001b[0;34m(self, x)\u001b[0m\n\u001b[1;32m    115\u001b[0m cstr \u001b[39m=\u001b[39m np\u001b[39m.\u001b[39mzeros((n, \u001b[39m1\u001b[39m))\n\u001b[1;32m    116\u001b[0m data \u001b[39m=\u001b[39m [\u001b[39mNone\u001b[39;00m]\u001b[39m*\u001b[39mn\n\u001b[0;32m--> 117\u001b[0m measures \u001b[39m=\u001b[39m \u001b[39mself\u001b[39;49m\u001b[39m.\u001b[39;49msimulate(x)\n\u001b[1;32m    119\u001b[0m \u001b[39mfor\u001b[39;00m i \u001b[39min\u001b[39;00m \u001b[39mrange\u001b[39m(n):\n\u001b[1;32m    120\u001b[0m     obj[i,:],cstr[i], log \u001b[39m=\u001b[39m \u001b[39mself\u001b[39m\u001b[39m.\u001b[39mtarget\u001b[39m.\u001b[39mevaluate(measures[i])\n",
      "File \u001b[0;32m~/Work/workspace-haicas/BAIcO/src/circuits.py:91\u001b[0m, in \u001b[0;36mCircuit.simulate\u001b[0;34m(self, values)\u001b[0m\n\u001b[1;32m     85\u001b[0m     parameter_values \u001b[39m=\u001b[39m values\n\u001b[1;32m     88\u001b[0m \u001b[39massert\u001b[39;00m parameter_values\u001b[39m.\u001b[39mshape[\u001b[39m1\u001b[39m] \u001b[39m==\u001b[39m \u001b[39mlen\u001b[39m(\u001b[39mself\u001b[39m\u001b[39m.\u001b[39mparameters)\n\u001b[0;32m---> 91\u001b[0m sim_results \u001b[39m=\u001b[39m \u001b[39mself\u001b[39;49m\u001b[39m.\u001b[39;49mngspice\u001b[39m.\u001b[39;49msimulate( parameter_values)\n\u001b[1;32m     93\u001b[0m \u001b[39mreturn\u001b[39;00m sim_results\n",
      "File \u001b[0;32m~/Work/workspace-haicas/BAIcO/src/ngspice.py:287\u001b[0m, in \u001b[0;36mNgspice.simulate\u001b[0;34m(self, values)\u001b[0m\n\u001b[1;32m    282\u001b[0m     \u001b[39mfor\u001b[39;00m sim \u001b[39min\u001b[39;00m \u001b[39mself\u001b[39m\u001b[39m.\u001b[39msimulation_list: \n\u001b[1;32m    283\u001b[0m         \u001b[39mself\u001b[39m\u001b[39m.\u001b[39mq\u001b[39m.\u001b[39mput(Simulation(\n\u001b[1;32m    284\u001b[0m             sim\u001b[39m.\u001b[39mcorner_id, sim\u001b[39m.\u001b[39mnetlist_file, sim\u001b[39m.\u001b[39mmeas_file, \n\u001b[1;32m    285\u001b[0m             sim_results[i], values[i,:]))\n\u001b[0;32m--> 287\u001b[0m \u001b[39mself\u001b[39;49m\u001b[39m.\u001b[39;49mq\u001b[39m.\u001b[39;49mjoin()\n\u001b[1;32m    289\u001b[0m \u001b[39m# consider to create/update worker threads for this also\u001b[39;00m\n\u001b[1;32m    290\u001b[0m \u001b[39mfor\u001b[39;00m i \u001b[39min\u001b[39;00m \u001b[39mrange\u001b[39m(n):\n",
      "File \u001b[0;32m/usr/local/lib/python3.8/queue.py:89\u001b[0m, in \u001b[0;36mQueue.join\u001b[0;34m(self)\u001b[0m\n\u001b[1;32m     87\u001b[0m \u001b[39mwith\u001b[39;00m \u001b[39mself\u001b[39m\u001b[39m.\u001b[39mall_tasks_done:\n\u001b[1;32m     88\u001b[0m     \u001b[39mwhile\u001b[39;00m \u001b[39mself\u001b[39m\u001b[39m.\u001b[39munfinished_tasks:\n\u001b[0;32m---> 89\u001b[0m         \u001b[39mself\u001b[39;49m\u001b[39m.\u001b[39;49mall_tasks_done\u001b[39m.\u001b[39;49mwait()\n",
      "File \u001b[0;32m/usr/local/lib/python3.8/threading.py:302\u001b[0m, in \u001b[0;36mCondition.wait\u001b[0;34m(self, timeout)\u001b[0m\n\u001b[1;32m    300\u001b[0m \u001b[39mtry\u001b[39;00m:    \u001b[39m# restore state no matter what (e.g., KeyboardInterrupt)\u001b[39;00m\n\u001b[1;32m    301\u001b[0m     \u001b[39mif\u001b[39;00m timeout \u001b[39mis\u001b[39;00m \u001b[39mNone\u001b[39;00m:\n\u001b[0;32m--> 302\u001b[0m         waiter\u001b[39m.\u001b[39;49macquire()\n\u001b[1;32m    303\u001b[0m         gotit \u001b[39m=\u001b[39m \u001b[39mTrue\u001b[39;00m\n\u001b[1;32m    304\u001b[0m     \u001b[39melse\u001b[39;00m:\n",
      "\u001b[0;31mKeyboardInterrupt\u001b[0m: "
     ]
    }
   ],
   "source": [
    "import random\n",
    "from datetime import datetime\n",
    "import numpy as np\n",
    "import pandas as pd\n",
    "import os\n",
    "\n",
    "\n",
    "seed = 42\n",
    "np.random.seed(seed)\n",
    "random.seed(seed)\n",
    "nsga2 = opt.NSGA2()\n",
    "\n",
    "output_folder = \"./run/ptm130_folded_cascode/\"\n",
    "\n",
    "\n",
    "if not os.path.exists(output_folder):\n",
    "    os.makedirs(output_folder)\n",
    "\n",
    "\n",
    "i = 0\n",
    "folded_cascode = cir.Circuit(\"./circuit_examples/ptm130_folded_cascode/\", corners=None)\n",
    "for pop, pop_obj,  pop_cstr, pop_data, evals, front_no in nsga2.minimize(\n",
    "        folded_cascode,pop_size=256, evaluations=256*100, mutation=0.1, crossover=0.6):\n",
    "        \n",
    "        print(i, pop_cstr[pop_cstr.argmax()], datetime.now().time())\n",
    "        with open(\"{}history256_{}_{}.json\".format(output_folder,seed, i), \"w\") as file: \n",
    "            json.dump(\n",
    "            {\n",
    "                \"pop\":json.loads(pd.DataFrame(data=pop, columns=folded_cascode.parameters).to_json(orient=\"records\")),\n",
    "                \"obj\":json.loads(pd.DataFrame(data=pop_obj, columns=folded_cascode.objectives).to_json(orient=\"records\")),\n",
    "                \"cstr\":pop_cstr.tolist(),\n",
    "                \"data\":pop_data,\n",
    "                \"evals\":evals,\n",
    "                \"fn\":[ str(fn) for fn in front_no.tolist()]\n",
    "            },\n",
    "            file  \n",
    "            )\n",
    "        i = i + 1\n"
   ]
  },
  {
   "cell_type": "code",
   "execution_count": null,
   "metadata": {},
   "outputs": [],
   "source": [
    "import plot_utils \n",
    "importlib.reload(plot_utils)\n",
    "\n",
    "plot_utils.plt_pof([\"{}history256_{}_{}.json\".format(output_folder,seed, 100)], scales = [(\"[uA]\", 1e6),(\"[MHz]\", 1e-6),(\"[dB]\", 1.0)])\n",
    "\n"
   ]
  },
  {
   "cell_type": "markdown",
   "metadata": {},
   "source": []
  },
  {
   "cell_type": "code",
   "execution_count": null,
   "metadata": {},
   "outputs": [
    {
     "name": "stdout",
     "output_type": "stream",
     "text": [
      "['/home/nlourenco/open-analog-ics/BAIcO', '/home/nlourenco/open-analog-ics/BAIcO/src', '/home/nlourenco/open-analog-ics/BAIcO/test', '/home/nlourenco/open-analog-ics/BAIcO/notebooks', '/home/nlourenco/.vscode-server/extensions/ms-toolsai.jupyter-2021.6.999406279/pythonFiles', '/home/nlourenco/.vscode-server/extensions/ms-toolsai.jupyter-2021.6.999406279/pythonFiles/lib/python', '/usr/lib/python38.zip', '/usr/lib/python3.8', '/usr/lib/python3.8/lib-dynload', '', '/home/nlourenco/open-analog-ics/BAIcO/myvenv/lib/python3.8/site-packages', '/home/nlourenco/open-analog-ics/BAIcO/myvenv/lib/python3.8/site-packages/IPython/extensions', '/home/nlourenco/.ipython']\n"
     ]
    }
   ],
   "source": [
    "import sys\n",
    "print(sys.path)\n",
    "\n"
   ]
  },
  {
   "cell_type": "code",
   "execution_count": null,
   "metadata": {},
   "outputs": [
    {
     "data": {
      "text/plain": [
       "['./src/', './test/', './notebooks/', '']"
      ]
     },
     "execution_count": 2,
     "metadata": {},
     "output_type": "execute_result"
    }
   ],
   "source": [
    "import os\n",
    "os.environ['PYTHONPATH'].split(os.pathsep)"
   ]
  },
  {
   "cell_type": "code",
   "execution_count": null,
   "metadata": {},
   "outputs": [],
   "source": []
  },
  {
   "cell_type": "code",
   "execution_count": null,
   "metadata": {},
   "outputs": [],
   "source": []
  },
  {
   "cell_type": "code",
   "execution_count": null,
   "metadata": {},
   "outputs": [],
   "source": []
  },
  {
   "cell_type": "code",
   "execution_count": null,
   "metadata": {},
   "outputs": [],
   "source": []
  },
  {
   "cell_type": "code",
   "execution_count": null,
   "metadata": {},
   "outputs": [],
   "source": []
  }
 ],
 "metadata": {
  "kernelspec": {
   "display_name": ".py38env",
   "language": "python",
   "name": "python3"
  },
  "language_info": {
   "codemirror_mode": {
    "name": "ipython",
    "version": 3
   },
   "file_extension": ".py",
   "mimetype": "text/x-python",
   "name": "python",
   "nbconvert_exporter": "python",
   "pygments_lexer": "ipython3",
   "version": "3.8.5"
  },
  "orig_nbformat": 2
 },
 "nbformat": 4,
 "nbformat_minor": 2
}
