{
 "cells": [
  {
   "cell_type": "markdown",
   "source": [
    "In this notebook we speed up simulation by inlining SKY130 model parameters, i.e. Create models with less parameters."
   ],
   "metadata": {}
  },
  {
   "cell_type": "code",
   "execution_count": 1,
   "source": [
    "import re"
   ],
   "outputs": [],
   "metadata": {}
  },
  {
   "cell_type": "code",
   "execution_count": 18,
   "source": [
    "def line_split(line):\n",
    "    return re.findall(r'[^\"\\s]\\S*|\".+?\"', line)\n",
    "\n",
    "def load_parameters(file_list):\n",
    "    ''' \n",
    "    Collects all parameters in the file list into a dict using a simple automata.\n",
    "    Does not follows includes.\n",
    "    '''\n",
    "\n",
    "    state  = None\n",
    "    params_dic = {}\n",
    "\n",
    "    for filename in file_list:\n",
    "        with open(filename, 'r') as file:\n",
    "            for line in file:\n",
    "                line = line.strip()\n",
    "                if not line or line[0] == '*': continue \n",
    "                \n",
    "                if state is None and '.PARAM' in line.upper():\n",
    "                    state = '.PARAM '\n",
    "\n",
    "                if state == '.PARAM ':\n",
    "                    if line[0] != '+': continue\n",
    "                    if '=' in line:\n",
    "                        token = line_split(line)\n",
    "                        for i in range(1, len(token) - 2, 3):\n",
    "                            params_dic[token[i]] = token[i+2]\n",
    "\n",
    "    return params_dic\n",
    "\n",
    "\n"
   ],
   "outputs": [],
   "metadata": {}
  },
  {
   "cell_type": "code",
   "execution_count": 48,
   "source": [
    "files = [\n",
    "    '../circuit_examples/device_models/sky130/cells/nfet_01v8/sky130_fd_pr__nfet_01v8__tt.corner.spice',\n",
    "    '../circuit_examples/device_models/sky130/cells/pfet_01v8/sky130_fd_pr__pfet_01v8__tt.corner.spice',\n",
    "    '../circuit_examples/device_models/sky130/cells/nfet_g5v0d10v5/sky130_fd_pr__nfet_g5v0d10v5__tt.corner.spice',\n",
    "    '../circuit_examples/device_models/sky130/cells/pfet_g5v0d10v5/sky130_fd_pr__pfet_g5v0d10v5__tt.corner.spice',\n",
    "    '../circuit_examples/device_models/sky130/models/parameters/lod.spice',\n",
    "    '../circuit_examples/device_models/sky130/models/parameters/invariant.spice',\n",
    "    ]\n",
    "\n",
    "parameters = load_parameters(files)\n",
    "\n",
    "parameters[\"sky130_fd_pr__pfet_01v8__toxe_slope_spectre\"] = \"0\"\n",
    "parameters[\"sky130_fd_pr__pfet_01v8__vth0_slope_spectre\"] = \"0\"\n",
    "parameters[\"sky130_fd_pr__pfet_01v8__voff_slope_spectre\"] = \"0\"\n",
    "parameters[\"sky130_fd_pr__pfet_01v8__nfactor_slope_spectre\"] = \"0\"\n",
    "\n",
    "parameters[\"sky130_fd_pr__nfet_01v8__toxe_slope_spectre\"] = \"0\"\n",
    "parameters[\"sky130_fd_pr__nfet_01v8__vth0_slope_spectre\"] = \"0\"\n",
    "parameters[\"sky130_fd_pr__nfet_01v8__voff_slope_spectre\"] = \"0\"\n",
    "parameters[\"sky130_fd_pr__nfet_01v8__nfactor_slope_spectre\"] = \"0\"\n",
    "\n",
    "parameters[\"sky130_fd_pr__nfet_g5v0d10v5__toxe_slope_spectre\"] = \"0\"\n",
    "parameters[\"sky130_fd_pr__nfet_g5v0d10v5__vth0_slope_spectre\"] = \"0\"\n",
    "parameters[\"sky130_fd_pr__nfet_g5v0d10v5__voff_slope_spectre\"] = \"0\"\n",
    "parameters[\"sky130_fd_pr__nfet_g5v0d10v5__nfactor_slope_spectre\"] = \"0\"\n",
    "\n",
    "parameters[\"sky130_fd_pr__pfet_g5v0d10v5__toxe_slope_spectre\"] = \"0\"\n",
    "parameters[\"sky130_fd_pr__pfet_g5v0d10v5__vth0_slope_spectre\"] = \"0\"\n",
    "parameters[\"sky130_fd_pr__pfet_g5v0d10v5__voff_slope_spectre\"] = \"0\"\n",
    "parameters[\"sky130_fd_pr__pfet_g5v0d10v5__nfactor_slope_spectre\"] = \"0\"\n",
    "\n",
    "\n"
   ],
   "outputs": [],
   "metadata": {}
  },
  {
   "cell_type": "code",
   "execution_count": 49,
   "source": [
    "def replace_parameters(dst, src, param):\n",
    "    with open(dst, 'w') as d, open(src, 'r') as s:\n",
    "        text = s.read()\n",
    "        keys = list(param.keys())\n",
    "        keys.sort()\n",
    "        keys.reverse()\n",
    "        for p in keys:\n",
    "            text = text.replace(p, param[p])\n",
    "        d.write(text)\n",
    "\n",
    "replace_parameters(\n",
    "    '../circuit_examples/device_models/sky130/nfet_01v8__tt.spice', \n",
    "    '../circuit_examples/device_models/sky130/cells/nfet_01v8/sky130_fd_pr__nfet_01v8__tt.pm3.spice',\n",
    "    parameters)\n",
    "\n",
    "replace_parameters(\n",
    "    '../circuit_examples/device_models/sky130/pfet_01v8__tt.spice', \n",
    "    '../circuit_examples/device_models/sky130/cells/pfet_01v8/sky130_fd_pr__pfet_01v8__tt.pm3.spice',\n",
    "    parameters)\n",
    "\n",
    "replace_parameters(\n",
    "    '../circuit_examples/device_models/sky130/nfet_g5v0d10v5__tt.spice', \n",
    "    '../circuit_examples/device_models/sky130/cells/nfet_g5v0d10v5/sky130_fd_pr__nfet_g5v0d10v5__tt.pm3.spice',\n",
    "    parameters)\n",
    "\n",
    "replace_parameters(\n",
    "    '../circuit_examples/device_models/sky130/pfet_g5v0d10v5__tt.spice', \n",
    "    '../circuit_examples/device_models/sky130/cells/pfet_g5v0d10v5/sky130_fd_pr__pfet_g5v0d10v5__tt.pm3.spice',\n",
    "    parameters)\n",
    "\n"
   ],
   "outputs": [],
   "metadata": {}
  },
  {
   "cell_type": "code",
   "execution_count": null,
   "source": [],
   "outputs": [],
   "metadata": {}
  }
 ],
 "metadata": {
  "orig_nbformat": 4,
  "language_info": {
   "name": "python",
   "version": "3.8.10",
   "mimetype": "text/x-python",
   "codemirror_mode": {
    "name": "ipython",
    "version": 3
   },
   "pygments_lexer": "ipython3",
   "nbconvert_exporter": "python",
   "file_extension": ".py"
  },
  "kernelspec": {
   "name": "python3",
   "display_name": "Python 3.8.10 64-bit ('myvenv': venv)"
  },
  "interpreter": {
   "hash": "65d70750145bee902e9c8e4b5bd13ddcc37d25f93cb75f15c9bc0f9a82c5d507"
  }
 },
 "nbformat": 4,
 "nbformat_minor": 2
}