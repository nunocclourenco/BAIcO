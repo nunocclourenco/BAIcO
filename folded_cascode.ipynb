{
 "metadata": {
  "language_info": {
   "codemirror_mode": {
    "name": "ipython",
    "version": 3
   },
   "file_extension": ".py",
   "mimetype": "text/x-python",
   "name": "python",
   "nbconvert_exporter": "python",
   "pygments_lexer": "ipython3",
   "version": "3.6.8-final"
  },
  "orig_nbformat": 2,
  "kernelspec": {
   "name": "python36864bitpyvenv9d18e4df76ae4749a51ac79d616ce69b",
   "display_name": "Python 3.6.8 64-bit ('pyvenv')",
   "language": "python"
  }
 },
 "nbformat": 4,
 "nbformat_minor": 2,
 "cells": [
  {
   "source": [
    "## Run simulation and optimizations for the folded cascode example\n"
   ],
   "cell_type": "markdown",
   "metadata": {}
  },
  {
   "cell_type": "code",
   "execution_count": 1,
   "metadata": {},
   "outputs": [
    {
     "output_type": "execute_result",
     "data": {
      "text/plain": [
       "<module 'ngspice' from '/home/nlourenco/vscode_aida/BAIcO/src/ngspice.py'>"
      ]
     },
     "metadata": {},
     "execution_count": 1
    }
   ],
   "source": [
    "import json\n",
    "import circuits as cir\n",
    "import optimizers as opt\n",
    "import ngspice\n",
    "import pandas as pd\n",
    "\n",
    "import importlib\n",
    "importlib.reload(cir)\n",
    "importlib.reload(opt)\n",
    "importlib.reload(ngspice)\n"
   ]
  },
  {
   "cell_type": "code",
   "execution_count": 2,
   "metadata": {
    "tags": []
   },
   "outputs": [
    {
     "output_type": "stream",
     "name": "stdout",
     "text": [
      "Simulation Results Typ Only\n    CL[pF]  DELTA_MNM1  DELTA_MNM2  DELTA_MNM3  DELTA_MNM4  DELTA_MNM5  \\\nTT     6.0    0.585495    0.739938    0.617564    0.619046    0.413995   \n\n    DELTA_MNM6  DELTA_MNM7  DELTA_MNM8  DELTA_MPM0  ...  VOV_MNM5  VOV_MNM6  \\\nTT    0.639173    0.402403    0.402872    0.472546  ...  0.001432  0.000963   \n\n    VOV_MNM7  VOV_MNM8  VOV_MPM0  VOV_MPM1  VOV_MPM3  VOV_MPM4  VOV_MPM5  \\\nTT -0.016224 -0.016224   0.37476  0.103984  1.307041  1.307041  0.405695   \n\n    VOV_MPM6  \nTT  0.407171  \n\n[1 rows x 42 columns]\n"
     ]
    }
   ],
   "source": [
    "#load the cicruit definitions and targets defined in circuit_setup.json\n",
    "folded_cascode = cir.Circuit(\"./circuit_examples/ptm130_folded_cascode/\", corners=None)\n",
    "\n",
    "#load a sample sizing\n",
    "with open(\"./circuit_examples/ptm130_folded_cascode/sizing_example.json\", 'r') as file:\n",
    "    sizing = json.load(file)\n",
    "\n",
    "simulation_result = folded_cascode.simulate(sizing)\n",
    "\n",
    "\n",
    "print(\"Simulation Results Typ Only\")\n",
    "\n",
    "df = pd.DataFrame(simulation_result[0]).transpose()\n",
    "\n",
    "df['CL'] *= 1e12  \n",
    "df.rename(columns = {\"CL\": \"CL[pF]\"}, inplace=True)  \n",
    "print(df)\n"
   ]
  },
  {
   "cell_type": "code",
   "execution_count": 3,
   "metadata": {
    "tags": []
   },
   "outputs": [
    {
     "output_type": "stream",
     "name": "stdout",
     "text": [
      "Simulation Results All Corners\n                       CL[pF]       GDC         GBW  PM_NEGATIVE        GPS  \\\nSS_VDD_MIN_TEMP_MIN       6.0  80.83673  39554440.0    -114.2310  -5.460861   \nTT                        6.0  88.39221  31793610.0    -122.3191  -3.418371   \nSS_VDD_MAX_TEMP_MIN       6.0  69.53510  46737210.0    -108.8653 -14.417560   \nSS_VDD_MIN_TEMP_MAX       6.0 -86.95084         NaN          NaN -75.768650   \nFF_VDD_MAX_TEMP_MIN       6.0  68.64928  58458860.0    -107.7896 -14.566390   \nFF_VDD_MAX_TEMP_MAX       6.0  87.51435  32338310.0    -122.7734 -18.703350   \nFF_VDD_MIN_TEMP_MAX       6.0  98.37739  18233250.0    -132.4969   6.757086   \nSS_VDD_MAX_TEMP_MAX       6.0  95.32268  23641690.0    -131.6557  -1.444409   \nFF_VDD_MIN_TEMP_MIN       6.0  72.23919  42161240.0    -106.8764 -21.388510   \nSNFP_VDD_MIN_TEMP_MIN     6.0  68.89267  40677850.0    -108.4439 -18.217450   \nSNFP_VDD_MIN_TEMP_MAX     6.0 -87.04048         NaN          NaN -63.453340   \nSNFP_VDD_MAX_TEMP_MIN     6.0  63.25632  50487600.0    -106.5604 -13.049850   \nSNFP_VDD_MAX_TEMP_MAX     6.0  85.08479  28944150.0    -122.7914  -7.335310   \nFNSP_VDD_MAX_TEMP_MAX     6.0  93.80227  27325650.0    -130.9001 -10.313470   \nFNSP_VDD_MAX_TEMP_MIN     6.0  75.23211  52840020.0    -109.6692 -16.525670   \nFNSP_VDD_MIN_TEMP_MAX     6.0 -98.38497         NaN          NaN -86.307360   \nFNSP_VDD_MIN_TEMP_MIN     6.0  82.68885  41475270.0    -111.9142  -7.375030   \n\n                            PM       PSRR  INOISE_TOTAL  ONOISE_TOTAL  \\\nSS_VDD_MIN_TEMP_MIN    65.7690   86.29759  4.928744e-07  5.290678e-03   \nTT                     57.6809   91.81058  6.702275e-07  2.070569e-02   \nSS_VDD_MAX_TEMP_MIN    71.1347   83.95266  4.667157e-07  1.526398e-03   \nSS_VDD_MIN_TEMP_MAX        NaN        NaN  1.204242e-01  9.660120e-10   \nFF_VDD_MAX_TEMP_MIN    72.2104   83.21567  2.497138e-07  1.675400e-03   \nFF_VDD_MAX_TEMP_MAX    57.2266  106.21770  7.395473e-07  2.049507e-02   \nFF_VDD_MIN_TEMP_MAX    47.5031   91.62030  3.649574e-07  1.095987e-01   \nSS_VDD_MAX_TEMP_MAX    48.3443   96.76709  5.036067e-07  6.768291e-02   \nFF_VDD_MIN_TEMP_MIN    73.1236   93.62770  5.345136e-07  2.276666e-03   \nSNFP_VDD_MIN_TEMP_MIN  71.5561   87.11012  5.405864e-07  9.007063e-04   \nSNFP_VDD_MIN_TEMP_MAX      NaN        NaN  1.321339e-01  9.737580e-10   \nSNFP_VDD_MAX_TEMP_MIN  73.4396   76.30617  3.560017e-07  6.181835e-04   \nSNFP_VDD_MAX_TEMP_MAX  57.2086   92.42010  8.044332e-07  1.214318e-02   \nFNSP_VDD_MAX_TEMP_MAX  49.0999  104.11570  5.440725e-07  5.125872e-02   \nFNSP_VDD_MAX_TEMP_MIN  70.3308   91.75778  3.501699e-07  4.739208e-03   \nFNSP_VDD_MIN_TEMP_MAX      NaN        NaN  4.153189e-01  9.540728e-10   \nFNSP_VDD_MIN_TEMP_MIN  68.0858   90.06388  5.104371e-07  9.782670e-03   \n\n                            IDD  ...  DELTA_MNM2  DELTA_MNM3  DELTA_MNM4  \\\nSS_VDD_MIN_TEMP_MIN    0.000396  ...    0.852954    0.605737    0.608014   \nTT                     0.000300  ...    0.739938    0.617564    0.619046   \nSS_VDD_MAX_TEMP_MIN    0.000880  ...    0.822558    1.000603    1.004962   \nSS_VDD_MIN_TEMP_MAX    0.000097  ...   -0.284590   -0.671530   -0.671530   \nFF_VDD_MAX_TEMP_MIN    0.001285  ...    0.850980    0.924414    0.926238   \nFF_VDD_MAX_TEMP_MAX    0.000351  ...    0.684588    0.673937    0.675595   \nFF_VDD_MIN_TEMP_MAX    0.000185  ...    0.715314    0.267998    0.268095   \nSS_VDD_MAX_TEMP_MAX    0.000218  ...    0.599518    0.699237    0.699807   \nFF_VDD_MIN_TEMP_MIN    0.000688  ...    0.929919    0.563346    0.565321   \nSNFP_VDD_MIN_TEMP_MIN  0.000612  ...    0.853027    0.663535    0.666783   \nSNFP_VDD_MIN_TEMP_MAX  0.000154  ...   -0.079198   -0.531800   -0.531800   \nSNFP_VDD_MAX_TEMP_MIN  0.001212  ...    0.800648    1.034064    1.036794   \nSNFP_VDD_MAX_TEMP_MAX  0.000318  ...    0.592951    0.823100    0.825930   \nFNSP_VDD_MAX_TEMP_MAX  0.000245  ...    0.700943    0.565509    0.566000   \nFNSP_VDD_MAX_TEMP_MIN  0.000942  ...    0.879152    0.890372    0.893085   \nFNSP_VDD_MIN_TEMP_MAX  0.000118  ...   -0.204075   -0.693608   -0.693608   \nFNSP_VDD_MIN_TEMP_MIN  0.000454  ...    0.929959    0.512152    0.513859   \n\n                       DELTA_MNM5  DELTA_MNM6  DELTA_MNM7  DELTA_MNM8  \\\nSS_VDD_MIN_TEMP_MIN      0.474125    0.701649    0.463872    0.464324   \nTT                       0.413995    0.639173    0.402403    0.402872   \nSS_VDD_MAX_TEMP_MIN      0.507996    0.751504    0.498988    0.499475   \nSS_VDD_MIN_TEMP_MAX     -0.045063   -0.045063   -0.045340   -0.045339   \nFF_VDD_MAX_TEMP_MIN      0.452765    0.572970    0.444462    0.444723   \nFF_VDD_MAX_TEMP_MAX      0.379559    0.609492    0.367885    0.368375   \nFF_VDD_MIN_TEMP_MAX      0.279507    0.320273    0.264936    0.265045   \nSS_VDD_MAX_TEMP_MAX      0.399336    0.545540    0.385689    0.386020   \nFF_VDD_MIN_TEMP_MIN      0.434092    0.573231    0.425121    0.425406   \nSNFP_VDD_MIN_TEMP_MIN    0.495573    0.665940    0.486154    0.486494   \nSNFP_VDD_MIN_TEMP_MAX   -0.044712   -0.044712   -0.045079   -0.045079   \nSNFP_VDD_MAX_TEMP_MIN    0.519175    0.654409    0.510409    0.510700   \nSNFP_VDD_MAX_TEMP_MAX    0.444722    0.809772    0.432788    0.433535   \nFNSP_VDD_MAX_TEMP_MAX    0.344119    0.453418    0.330959    0.331211   \nFNSP_VDD_MAX_TEMP_MIN    0.442518    0.644156    0.433887    0.434298   \nFNSP_VDD_MIN_TEMP_MAX   -0.046433   -0.046433   -0.046547   -0.046547   \nFNSP_VDD_MIN_TEMP_MIN    0.415619    0.603561    0.405834    0.406214   \n\n                           SDINOISE      SDONOISE         FOM  \nSS_VDD_MIN_TEMP_MIN    5.324741e-17  6.086957e-17  598.586858  \nTT                     5.468791e-17  6.346895e-17  636.744965  \nSS_VDD_MAX_TEMP_MIN    6.507078e-17  6.601608e-17  318.757916  \nSS_VDD_MIN_TEMP_MAX             NaN           NaN         NaN  \nFF_VDD_MAX_TEMP_MIN    5.314075e-17  5.440979e-17  272.930347  \nFF_VDD_MAX_TEMP_MAX    5.726220e-17  6.934353e-17  552.700609  \nFF_VDD_MIN_TEMP_MAX    5.215786e-17  6.045157e-17  590.563359  \nSS_VDD_MAX_TEMP_MAX    5.121620e-17  6.675239e-17  649.282632  \nFF_VDD_MIN_TEMP_MIN    7.219787e-17  7.423803e-17  367.743334  \nSNFP_VDD_MIN_TEMP_MIN  6.956561e-17  8.401470e-17  398.807143  \nSNFP_VDD_MIN_TEMP_MAX           NaN           NaN         NaN  \nSNFP_VDD_MAX_TEMP_MIN  6.704320e-17  8.010078e-17  249.908716  \nSNFP_VDD_MAX_TEMP_MAX  6.364231e-17  7.707861e-17  545.708644  \nFNSP_VDD_MAX_TEMP_MAX  4.918716e-17  5.170397e-17  668.247407  \nFNSP_VDD_MAX_TEMP_MIN  5.424963e-17  5.657792e-17  336.552777  \nFNSP_VDD_MIN_TEMP_MAX           NaN           NaN         NaN  \nFNSP_VDD_MIN_TEMP_MIN  5.539018e-17  7.017712e-17  548.082308  \n\n[17 rows x 42 columns]\n"
     ]
    }
   ],
   "source": [
    "#load the cicruit definitions and targets defined in circuit_setup.json with corners from corners.inc\n",
    "folded_cascode = cir.Circuit(\"./circuit_examples/ptm130_folded_cascode/\")\n",
    "\n",
    "#load a sample sizing\n",
    "with open(\"./circuit_examples/ptm130_folded_cascode/sizing_example.json\", 'r') as file:\n",
    "    sizing = json.load(file)\n",
    "\n",
    "simulation_result = folded_cascode.simulate(sizing)\n",
    "\n",
    "\n",
    "print(\"Simulation Results All Corners\")\n",
    "df = pd.DataFrame(simulation_result[0]).transpose()\n",
    "\n",
    "# rescale CL to show not 0 in df\n",
    "df['CL'] *= 1e12\n",
    "df.rename(columns = {\"CL\": \"CL[pF]\"}, inplace=True)  \n",
    "print(df)"
   ]
  },
  {
   "cell_type": "code",
   "execution_count": 4,
   "metadata": {
    "tags": []
   },
   "outputs": [
    {
     "output_type": "stream",
     "name": "stdout",
     "text": [
      "Objectives\n{'IDD': 0.001285138, 'GBW': -inf, 'GDC': -98.38497}\n"
     ]
    }
   ],
   "source": [
    "obj,cstr,log = folded_cascode.target.evaluate(simulation_result[0])\n",
    "\n",
    "print(\"Objectives\")\n",
    "\n",
    "print( {folded_cascode.objectives[i][0]:(obj[i]*folded_cascode.objectives[i][1]) for i in range(len(obj))})"
   ]
  },
  {
   "cell_type": "code",
   "execution_count": 9,
   "metadata": {
    "tags": []
   },
   "outputs": [
    {
     "output_type": "stream",
     "name": "stdout",
     "text": [
      "128000\n[ 2.945921e-03 -1.407357e+07 -4.492332e+01] [-99.93365329]\n{'IDD_lt': (0.00035, 0.0008358312, -1.3880891428571427), 'FOM_gt': (500.0, 137.79586117388297, -0.7244082776522341), 'VOV_MNM7_gt': (0.05, 0.02203658, -0.5592684), 'VOV_MNM8_gt': (0.05, 0.02204395, -0.559121), 'DELTA_MPM5_gt': (0.1, 0.09969517, -0.0030483000000000593), 'DELTA_MPM6_gt': (0.1, -0.00703182, -1.0703182)}\n"
     ]
    },
    {
     "output_type": "error",
     "ename": "KeyboardInterrupt",
     "evalue": "",
     "traceback": [
      "\u001b[0;31m---------------------------------------------------------------------------\u001b[0m",
      "\u001b[0;31mKeyboardInterrupt\u001b[0m                         Traceback (most recent call last)",
      "\u001b[0;32m<ipython-input-9-fbf046c815e1>\u001b[0m in \u001b[0;36m<module>\u001b[0;34m\u001b[0m\n\u001b[1;32m      2\u001b[0m \u001b[0;34m\u001b[0m\u001b[0m\n\u001b[1;32m      3\u001b[0m for pop, pop_obj,  pop_cstr, pop_data, evals, front_no in nsga2.minimize(\n\u001b[0;32m----> 4\u001b[0;31m     folded_cascode, pop_size=256, evaluations=256*500, mutation=0.15):\n\u001b[0m\u001b[1;32m      5\u001b[0m     \u001b[0mprint\u001b[0m\u001b[0;34m(\u001b[0m\u001b[0mevals\u001b[0m\u001b[0;34m)\u001b[0m\u001b[0;34m\u001b[0m\u001b[0;34m\u001b[0m\u001b[0m\n\u001b[1;32m      6\u001b[0m     \u001b[0mprint\u001b[0m\u001b[0;34m(\u001b[0m\u001b[0mpop_obj\u001b[0m\u001b[0;34m[\u001b[0m\u001b[0mpop_cstr\u001b[0m\u001b[0;34m.\u001b[0m\u001b[0margmax\u001b[0m\u001b[0;34m(\u001b[0m\u001b[0;34m)\u001b[0m\u001b[0;34m]\u001b[0m \u001b[0;34m,\u001b[0m \u001b[0mpop_cstr\u001b[0m\u001b[0;34m[\u001b[0m\u001b[0mpop_cstr\u001b[0m\u001b[0;34m.\u001b[0m\u001b[0margmax\u001b[0m\u001b[0;34m(\u001b[0m\u001b[0;34m)\u001b[0m\u001b[0;34m]\u001b[0m\u001b[0;34m)\u001b[0m\u001b[0;34m\u001b[0m\u001b[0;34m\u001b[0m\u001b[0m\n",
      "\u001b[0;32m~/vscode_aida/BAIcO/src/optimizers.py\u001b[0m in \u001b[0;36mminimize\u001b[0;34m(self, problem, pop_size, evaluations, mutation, crossover, initial_pop)\u001b[0m\n\u001b[1;32m    353\u001b[0m \u001b[0;34m\u001b[0m\u001b[0m\n\u001b[1;32m    354\u001b[0m             self.offspring_dec, self.offspring_obj, self.offspring_cstr, self.offspring_data = problem.individual(\n\u001b[0;32m--> 355\u001b[0;31m                 problem.variation(self.pop[mating_pool, :], mutation = mutation, crossover= crossover ))\n\u001b[0m\u001b[1;32m    356\u001b[0m \u001b[0;34m\u001b[0m\u001b[0m\n\u001b[1;32m    357\u001b[0m             \u001b[0mself\u001b[0m\u001b[0;34m.\u001b[0m\u001b[0mpop\u001b[0m \u001b[0;34m=\u001b[0m \u001b[0mnp\u001b[0m\u001b[0;34m.\u001b[0m\u001b[0mvstack\u001b[0m\u001b[0;34m(\u001b[0m\u001b[0;34m(\u001b[0m\u001b[0mself\u001b[0m\u001b[0;34m.\u001b[0m\u001b[0mpop\u001b[0m\u001b[0;34m,\u001b[0m \u001b[0mself\u001b[0m\u001b[0;34m.\u001b[0m\u001b[0moffspring_dec\u001b[0m\u001b[0;34m)\u001b[0m\u001b[0;34m)\u001b[0m\u001b[0;34m\u001b[0m\u001b[0;34m\u001b[0m\u001b[0m\n",
      "\u001b[0;32m~/vscode_aida/BAIcO/src/optimizers.py\u001b[0m in \u001b[0;36mindividual\u001b[0;34m(self, pop_vars)\u001b[0m\n\u001b[1;32m     74\u001b[0m         \u001b[0;34m:\u001b[0m\u001b[0;32mreturn\u001b[0m\u001b[0;34m:\u001b[0m \u001b[0;34m(\u001b[0m\u001b[0mpop_vars\u001b[0m\u001b[0;34m,\u001b[0m \u001b[0mpop_obj\u001b[0m\u001b[0;34m,\u001b[0m \u001b[0mpop_cstr\u001b[0m\u001b[0;34m)\u001b[0m\u001b[0;34m\u001b[0m\u001b[0;34m\u001b[0m\u001b[0m\n\u001b[1;32m     75\u001b[0m         \"\"\"\n\u001b[0;32m---> 76\u001b[0;31m         \u001b[0mpop_obj\u001b[0m\u001b[0;34m,\u001b[0m \u001b[0mpop_cstr\u001b[0m\u001b[0;34m,\u001b[0m \u001b[0mpop_data\u001b[0m \u001b[0;34m=\u001b[0m \u001b[0mself\u001b[0m\u001b[0;34m.\u001b[0m\u001b[0mcost_fun\u001b[0m\u001b[0;34m(\u001b[0m\u001b[0mpop_vars\u001b[0m\u001b[0;34m)\u001b[0m\u001b[0;34m\u001b[0m\u001b[0;34m\u001b[0m\u001b[0m\n\u001b[0m\u001b[1;32m     77\u001b[0m         \u001b[0;32mreturn\u001b[0m \u001b[0;34m(\u001b[0m\u001b[0mpop_vars\u001b[0m\u001b[0;34m,\u001b[0m \u001b[0mpop_obj\u001b[0m\u001b[0;34m,\u001b[0m \u001b[0mpop_cstr\u001b[0m\u001b[0;34m,\u001b[0m \u001b[0mpop_data\u001b[0m\u001b[0;34m)\u001b[0m\u001b[0;34m\u001b[0m\u001b[0;34m\u001b[0m\u001b[0m\n\u001b[1;32m     78\u001b[0m \u001b[0;34m\u001b[0m\u001b[0m\n",
      "\u001b[0;32m~/vscode_aida/BAIcO/src/circuits.py\u001b[0m in \u001b[0;36mcost_fun\u001b[0;34m(self, x)\u001b[0m\n\u001b[1;32m    115\u001b[0m         \u001b[0mcstr\u001b[0m \u001b[0;34m=\u001b[0m \u001b[0mnp\u001b[0m\u001b[0;34m.\u001b[0m\u001b[0mzeros\u001b[0m\u001b[0;34m(\u001b[0m\u001b[0;34m(\u001b[0m\u001b[0mn\u001b[0m\u001b[0;34m,\u001b[0m \u001b[0;36m1\u001b[0m\u001b[0;34m)\u001b[0m\u001b[0;34m)\u001b[0m\u001b[0;34m\u001b[0m\u001b[0;34m\u001b[0m\u001b[0m\n\u001b[1;32m    116\u001b[0m         \u001b[0mdata\u001b[0m \u001b[0;34m=\u001b[0m \u001b[0;34m[\u001b[0m\u001b[0;32mNone\u001b[0m\u001b[0;34m]\u001b[0m\u001b[0;34m*\u001b[0m\u001b[0mn\u001b[0m\u001b[0;34m\u001b[0m\u001b[0;34m\u001b[0m\u001b[0m\n\u001b[0;32m--> 117\u001b[0;31m         \u001b[0mmeasures\u001b[0m \u001b[0;34m=\u001b[0m \u001b[0mself\u001b[0m\u001b[0;34m.\u001b[0m\u001b[0msimulate\u001b[0m\u001b[0;34m(\u001b[0m\u001b[0mx\u001b[0m\u001b[0;34m)\u001b[0m\u001b[0;34m\u001b[0m\u001b[0;34m\u001b[0m\u001b[0m\n\u001b[0m\u001b[1;32m    118\u001b[0m \u001b[0;34m\u001b[0m\u001b[0m\n\u001b[1;32m    119\u001b[0m         \u001b[0;32mfor\u001b[0m \u001b[0mi\u001b[0m \u001b[0;32min\u001b[0m \u001b[0mrange\u001b[0m\u001b[0;34m(\u001b[0m\u001b[0mn\u001b[0m\u001b[0;34m)\u001b[0m\u001b[0;34m:\u001b[0m\u001b[0;34m\u001b[0m\u001b[0;34m\u001b[0m\u001b[0m\n",
      "\u001b[0;32m~/vscode_aida/BAIcO/src/circuits.py\u001b[0m in \u001b[0;36msimulate\u001b[0;34m(self, values)\u001b[0m\n\u001b[1;32m     89\u001b[0m \u001b[0;34m\u001b[0m\u001b[0m\n\u001b[1;32m     90\u001b[0m \u001b[0;34m\u001b[0m\u001b[0m\n\u001b[0;32m---> 91\u001b[0;31m         \u001b[0msim_results\u001b[0m \u001b[0;34m=\u001b[0m \u001b[0mself\u001b[0m\u001b[0;34m.\u001b[0m\u001b[0mngspice\u001b[0m\u001b[0;34m.\u001b[0m\u001b[0msimulate\u001b[0m\u001b[0;34m(\u001b[0m \u001b[0mparameter_values\u001b[0m\u001b[0;34m)\u001b[0m\u001b[0;34m\u001b[0m\u001b[0;34m\u001b[0m\u001b[0m\n\u001b[0m\u001b[1;32m     92\u001b[0m \u001b[0;34m\u001b[0m\u001b[0m\n\u001b[1;32m     93\u001b[0m         \u001b[0;32mreturn\u001b[0m \u001b[0msim_results\u001b[0m\u001b[0;34m\u001b[0m\u001b[0;34m\u001b[0m\u001b[0m\n",
      "\u001b[0;32m~/vscode_aida/BAIcO/src/ngspice.py\u001b[0m in \u001b[0;36msimulate\u001b[0;34m(self, values)\u001b[0m\n\u001b[1;32m    285\u001b[0m                     sim_results[i], values[i,:]))\n\u001b[1;32m    286\u001b[0m \u001b[0;34m\u001b[0m\u001b[0m\n\u001b[0;32m--> 287\u001b[0;31m         \u001b[0mself\u001b[0m\u001b[0;34m.\u001b[0m\u001b[0mq\u001b[0m\u001b[0;34m.\u001b[0m\u001b[0mjoin\u001b[0m\u001b[0;34m(\u001b[0m\u001b[0;34m)\u001b[0m\u001b[0;34m\u001b[0m\u001b[0;34m\u001b[0m\u001b[0m\n\u001b[0m\u001b[1;32m    288\u001b[0m \u001b[0;34m\u001b[0m\u001b[0m\n\u001b[1;32m    289\u001b[0m         \u001b[0;31m# consider to create/update worker threads for this also\u001b[0m\u001b[0;34m\u001b[0m\u001b[0;34m\u001b[0m\u001b[0;34m\u001b[0m\u001b[0m\n",
      "\u001b[0;32m/usr/lib64/python3.6/queue.py\u001b[0m in \u001b[0;36mjoin\u001b[0;34m(self)\u001b[0m\n\u001b[1;32m     81\u001b[0m         \u001b[0;32mwith\u001b[0m \u001b[0mself\u001b[0m\u001b[0;34m.\u001b[0m\u001b[0mall_tasks_done\u001b[0m\u001b[0;34m:\u001b[0m\u001b[0;34m\u001b[0m\u001b[0;34m\u001b[0m\u001b[0m\n\u001b[1;32m     82\u001b[0m             \u001b[0;32mwhile\u001b[0m \u001b[0mself\u001b[0m\u001b[0;34m.\u001b[0m\u001b[0munfinished_tasks\u001b[0m\u001b[0;34m:\u001b[0m\u001b[0;34m\u001b[0m\u001b[0;34m\u001b[0m\u001b[0m\n\u001b[0;32m---> 83\u001b[0;31m                 \u001b[0mself\u001b[0m\u001b[0;34m.\u001b[0m\u001b[0mall_tasks_done\u001b[0m\u001b[0;34m.\u001b[0m\u001b[0mwait\u001b[0m\u001b[0;34m(\u001b[0m\u001b[0;34m)\u001b[0m\u001b[0;34m\u001b[0m\u001b[0;34m\u001b[0m\u001b[0m\n\u001b[0m\u001b[1;32m     84\u001b[0m \u001b[0;34m\u001b[0m\u001b[0m\n\u001b[1;32m     85\u001b[0m     \u001b[0;32mdef\u001b[0m \u001b[0mqsize\u001b[0m\u001b[0;34m(\u001b[0m\u001b[0mself\u001b[0m\u001b[0;34m)\u001b[0m\u001b[0;34m:\u001b[0m\u001b[0;34m\u001b[0m\u001b[0;34m\u001b[0m\u001b[0m\n",
      "\u001b[0;32m/usr/lib64/python3.6/threading.py\u001b[0m in \u001b[0;36mwait\u001b[0;34m(self, timeout)\u001b[0m\n\u001b[1;32m    293\u001b[0m         \u001b[0;32mtry\u001b[0m\u001b[0;34m:\u001b[0m    \u001b[0;31m# restore state no matter what (e.g., KeyboardInterrupt)\u001b[0m\u001b[0;34m\u001b[0m\u001b[0;34m\u001b[0m\u001b[0m\n\u001b[1;32m    294\u001b[0m             \u001b[0;32mif\u001b[0m \u001b[0mtimeout\u001b[0m \u001b[0;32mis\u001b[0m \u001b[0;32mNone\u001b[0m\u001b[0;34m:\u001b[0m\u001b[0;34m\u001b[0m\u001b[0;34m\u001b[0m\u001b[0m\n\u001b[0;32m--> 295\u001b[0;31m                 \u001b[0mwaiter\u001b[0m\u001b[0;34m.\u001b[0m\u001b[0macquire\u001b[0m\u001b[0;34m(\u001b[0m\u001b[0;34m)\u001b[0m\u001b[0;34m\u001b[0m\u001b[0;34m\u001b[0m\u001b[0m\n\u001b[0m\u001b[1;32m    296\u001b[0m                 \u001b[0mgotit\u001b[0m \u001b[0;34m=\u001b[0m \u001b[0;32mTrue\u001b[0m\u001b[0;34m\u001b[0m\u001b[0;34m\u001b[0m\u001b[0m\n\u001b[1;32m    297\u001b[0m             \u001b[0;32melse\u001b[0m\u001b[0;34m:\u001b[0m\u001b[0;34m\u001b[0m\u001b[0;34m\u001b[0m\u001b[0m\n",
      "\u001b[0;31mKeyboardInterrupt\u001b[0m: "
     ]
    }
   ],
   "source": [
    "  \n",
    "nsga2 = opt.NSGA2()\n",
    "\n",
    "for pop, pop_obj,  pop_cstr, pop_data, evals, front_no in nsga2.minimize(\n",
    "    folded_cascode, pop_size=256, evaluations=256*500, mutation=0.15):\n",
    "    print(evals)\n",
    "    print(pop_obj[pop_cstr.argmax()] , pop_cstr[pop_cstr.argmax()])\n",
    "    print(pop_data[pop_cstr.argmax()][1]['TT'])\n",
    "\n"
   ]
  },
  {
   "cell_type": "code",
   "execution_count": 6,
   "metadata": {
    "tags": []
   },
   "outputs": [
    {
     "output_type": "stream",
     "name": "stdout",
     "text": [
      "0 [-2.46806649] 14:04:21.579429\n"
     ]
    },
    {
     "output_type": "error",
     "ename": "AttributeError",
     "evalue": "module 'circuits' has no attribute 'parameters'",
     "traceback": [
      "\u001b[0;31m---------------------------------------------------------------------------\u001b[0m",
      "\u001b[0;31mAttributeError\u001b[0m                            Traceback (most recent call last)",
      "\u001b[0;32m<ipython-input-6-3b26c3b9342d>\u001b[0m in \u001b[0;36m<module>\u001b[0;34m\u001b[0m\n\u001b[1;32m     27\u001b[0m             json.dump(\n\u001b[1;32m     28\u001b[0m             {\n\u001b[0;32m---> 29\u001b[0;31m                 \u001b[0;34m\"pop\"\u001b[0m\u001b[0;34m:\u001b[0m\u001b[0mjson\u001b[0m\u001b[0;34m.\u001b[0m\u001b[0mloads\u001b[0m\u001b[0;34m(\u001b[0m\u001b[0mpd\u001b[0m\u001b[0;34m.\u001b[0m\u001b[0mDataFrame\u001b[0m\u001b[0;34m(\u001b[0m\u001b[0mdata\u001b[0m\u001b[0;34m=\u001b[0m\u001b[0mpop\u001b[0m\u001b[0;34m,\u001b[0m \u001b[0mcolumns\u001b[0m\u001b[0;34m=\u001b[0m\u001b[0mcir\u001b[0m\u001b[0;34m.\u001b[0m\u001b[0mparameters\u001b[0m\u001b[0;34m)\u001b[0m\u001b[0;34m.\u001b[0m\u001b[0mto_json\u001b[0m\u001b[0;34m(\u001b[0m\u001b[0morient\u001b[0m\u001b[0;34m=\u001b[0m\u001b[0;34m\"records\"\u001b[0m\u001b[0;34m)\u001b[0m\u001b[0;34m)\u001b[0m\u001b[0;34m,\u001b[0m\u001b[0;34m\u001b[0m\u001b[0;34m\u001b[0m\u001b[0m\n\u001b[0m\u001b[1;32m     30\u001b[0m                 \u001b[0;34m\"obj\"\u001b[0m\u001b[0;34m:\u001b[0m\u001b[0mjson\u001b[0m\u001b[0;34m.\u001b[0m\u001b[0mloads\u001b[0m\u001b[0;34m(\u001b[0m\u001b[0mpd\u001b[0m\u001b[0;34m.\u001b[0m\u001b[0mDataFrame\u001b[0m\u001b[0;34m(\u001b[0m\u001b[0mdata\u001b[0m\u001b[0;34m=\u001b[0m\u001b[0mpop_obj\u001b[0m\u001b[0;34m,\u001b[0m \u001b[0mcolumns\u001b[0m\u001b[0;34m=\u001b[0m\u001b[0mcir\u001b[0m\u001b[0;34m.\u001b[0m\u001b[0mobjectives\u001b[0m\u001b[0;34m)\u001b[0m\u001b[0;34m.\u001b[0m\u001b[0mto_json\u001b[0m\u001b[0;34m(\u001b[0m\u001b[0morient\u001b[0m\u001b[0;34m=\u001b[0m\u001b[0;34m\"records\"\u001b[0m\u001b[0;34m)\u001b[0m\u001b[0;34m)\u001b[0m\u001b[0;34m,\u001b[0m\u001b[0;34m\u001b[0m\u001b[0;34m\u001b[0m\u001b[0m\n\u001b[1;32m     31\u001b[0m                 \u001b[0;34m\"cstr\"\u001b[0m\u001b[0;34m:\u001b[0m\u001b[0mpop_cstr\u001b[0m\u001b[0;34m.\u001b[0m\u001b[0mtolist\u001b[0m\u001b[0;34m(\u001b[0m\u001b[0;34m)\u001b[0m\u001b[0;34m,\u001b[0m\u001b[0;34m\u001b[0m\u001b[0;34m\u001b[0m\u001b[0m\n",
      "\u001b[0;31mAttributeError\u001b[0m: module 'circuits' has no attribute 'parameters'"
     ]
    }
   ],
   "source": [
    "import random\n",
    "from datetime import datetime\n",
    "import numpy as np\n",
    "import json\n",
    "import optimizers as opt\n",
    "import circuits as cir\n",
    "import ngspice\n",
    "import pandas as pd\n",
    "\n",
    "import importlib\n",
    "importlib.reload(opt)\n",
    "importlib.reload(cir)\n",
    "importlib.reload(ngspice)\n",
    "\n",
    "seed = 42\n",
    "np.random.seed(seed)\n",
    "random.seed(seed)\n",
    "    \n",
    "nsga2 = opt.NSGA2()\n",
    "i = 0\n",
    "folded_cascode = cir.Circuit(\"./circuit_examples/ptm130_folded_cascode/\", corners=None)\n",
    "for pop, pop_obj,  pop_cstr, pop_data, evals, front_no in nsga2.minimize(\n",
    "        folded_cascode,pop_size=256, evaluations=256*100, mutation=0.1, crossover=0.6):\n",
    "        \n",
    "        print(i, pop_cstr[pop_cstr.argmax()], datetime.now().time())\n",
    "        with open(\"./run/ptm130_folded_cascode/history256_{}_{}.json\".format(seed, i), \"w\") as file: \n",
    "            json.dump(\n",
    "            {\n",
    "                \"pop\":json.loads(pd.DataFrame(data=pop, columns=folded_cascode.parameters).to_json(orient=\"records\")),\n",
    "                \"obj\":json.loads(pd.DataFrame(data=pop_obj, columns=folded_cascode.objectives).to_json(orient=\"records\")),\n",
    "                \"cstr\":pop_cstr.tolist(),\n",
    "                \"data\":pop_data,\n",
    "                \"evals\":evals,\n",
    "                \"fn\":[ str(fn) for fn in front_no.tolist()]\n",
    "            },\n",
    "            file  \n",
    "            )\n",
    "        i = i + 1\n"
   ]
  },
  {
   "cell_type": "code",
   "execution_count": null,
   "metadata": {},
   "outputs": [],
   "source": [
    "print(history[0][5])\n",
    "\n"
   ]
  },
  {
   "cell_type": "code",
   "execution_count": null,
   "metadata": {},
   "outputs": [],
   "source": [
    "\n"
   ]
  },
  {
   "source": [],
   "cell_type": "markdown",
   "metadata": {}
  }
 ]
}