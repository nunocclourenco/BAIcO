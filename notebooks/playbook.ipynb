{
 "cells": [
  {
   "cell_type": "markdown",
   "metadata": {},
   "source": [
    "# Run ngspice simulation exmaples\n"
   ]
  },
  {
   "cell_type": "code",
   "execution_count": 1,
   "metadata": {},
   "outputs": [
    {
     "ename": "NameError",
     "evalue": "name 'importlib' is not defined",
     "output_type": "error",
     "traceback": [
      "\u001b[0;31m---------------------------------------------------------------------------\u001b[0m",
      "\u001b[0;31mNameError\u001b[0m                                 Traceback (most recent call last)",
      "\u001b[0;32m<ipython-input-1-0e87838c823b>\u001b[0m in \u001b[0;36m<module>\u001b[0;34m\u001b[0m\n\u001b[0;32m----> 1\u001b[0;31m \u001b[0mimportlib\u001b[0m\u001b[0;34m.\u001b[0m\u001b[0mreload\u001b[0m\u001b[0;34m(\u001b[0m\u001b[0mngspice\u001b[0m\u001b[0;34m)\u001b[0m\u001b[0;34m\u001b[0m\u001b[0;34m\u001b[0m\u001b[0m\n\u001b[0m\u001b[1;32m      2\u001b[0m \u001b[0;34m\u001b[0m\u001b[0m\n\u001b[1;32m      3\u001b[0m parameters = ('_w8','_w6','_w4','_w10','_w1','_w0',\n\u001b[1;32m      4\u001b[0m           \u001b[0;34m'_l8'\u001b[0m\u001b[0;34m,\u001b[0m\u001b[0;34m'_l6'\u001b[0m\u001b[0;34m,\u001b[0m\u001b[0;34m'_l4'\u001b[0m\u001b[0;34m,\u001b[0m\u001b[0;34m'_l10'\u001b[0m\u001b[0;34m,\u001b[0m\u001b[0;34m'_l1'\u001b[0m\u001b[0;34m,\u001b[0m\u001b[0;34m'_l0'\u001b[0m\u001b[0;34m,\u001b[0m\u001b[0;34m\u001b[0m\u001b[0;34m\u001b[0m\u001b[0m\n\u001b[1;32m      5\u001b[0m           \"_nf8\",\"_nf6\", \"_nf4\", \"_nf10\", \"_nf1\", \"_nf0\" )\n",
      "\u001b[0;31mNameError\u001b[0m: name 'importlib' is not defined"
     ]
    }
   ],
   "source": [
    "%%capture out \n",
    "importlib.reload(ngspice)\n",
    "\n",
    "parameters = ('_w8','_w6','_w4','_w10','_w1','_w0',\n",
    "          '_l8','_l6','_l4','_l10','_l1','_l0',\n",
    "          \"_nf8\",\"_nf6\", \"_nf4\", \"_nf10\", \"_nf1\", \"_nf0\" )\n",
    "          \n",
    "values     = ( 1.0000e-06, 7.1800e-05, 1.5700e-05, 2.2000e-06, 1.6000e-06, 9.0000e-06,\n",
    "           9.4000e-07, 8.8000e-07, 6.7000e-07, 8.9000e-07, 8.9000e-07, 8.4000e-07,\n",
    "           5.0000e+00, 1.0000e+00, 7.0000e+00, 1.0000e+00, 3.0000e+00, 3.0000e+00)\n",
    "  \n",
    "folder = \"../circuit_examples/ptm130_ssvcamp_ngspice/\"\n",
    "\n",
    "print(ngspice.simulate(cwd = folder, netlist=\"open-loop-testbench.cir\", param = parameters, val = values))"
   ]
  },
  {
   "cell_type": "code",
   "execution_count": 9,
   "metadata": {
    "tags": []
   },
   "outputs": [
    {
     "data": {
      "text/plain": [
       "<module 'ngspice' from '/home/nlourenco/vscode_aida/aida-ob/src/ngspice.py'>"
      ]
     },
     "execution_count": 9,
     "metadata": {},
     "output_type": "execute_result"
    }
   ],
   "source": [
    "import importlib\n",
    "import json\n",
    "import circuits as cir\n",
    "import optimizers as opt\n",
    "import ngspice\n",
    "\n",
    "importlib.reload(cir)\n",
    "importlib.reload(opt)\n",
    "importlib.reload(ngspice)\n",
    "\n",
    "\n"
   ]
  },
  {
   "cell_type": "code",
   "execution_count": 11,
   "metadata": {
    "tags": []
   },
   "outputs": [
    {
     "name": "stdout",
     "output_type": "stream",
     "text": [
      "[0.0004646086, -37382850.0, -78.27858] -4.785042125659958\n",
      "IDD_lt (0.00035, 0.0004646086, -0.32745314285714294)\n",
      "FOM_gt (500.0, 482.7657085985925, -0.034468582802815034)\n",
      "VOV_MNM3_gt (0.05, -0.0153057, -1.306114)\n",
      "VOV_MNM4_gt (0.05, -0.0153055, -1.3061099999999999)\n",
      "VOV_MNM5_gt (0.05, 0.03674646, -0.2650708)\n",
      "VOV_MNM6_gt (0.05, 0.03622316, -0.2755368000000001)\n",
      "VOV_MNM7_gt (0.05, 0.01824278, -0.6351444)\n",
      "VOV_MNM8_gt (0.05, 0.01824278, -0.6351444)\n"
     ]
    }
   ],
   "source": [
    "\n",
    "c = cir.Circuit(\"../circuit_examples/ptm130_folded_cascode/\")\n",
    "with open(\"../circuit_examples/ptm130_folded_cascode/sizing_example.json\", 'r') as file:\n",
    "    sizing = json.load(file)\n",
    "\n",
    "parameters = [ k for  k,v in sizing.items() ]\n",
    "values     = [ v for  k,v in sizing.items() ]\n",
    "\n",
    "\n",
    "meas = c.simulate(values, parameters= parameters)\n",
    "\n",
    "\n",
    "obj,cstr, log = c.target.evaluate(meas)\n",
    "\n",
    "print(obj, cstr)\n",
    "for k,v in log['TT'].items():\n",
    "    print(k, v)\n",
    "\n",
    "\n",
    "\n"
   ]
  },
  {
   "cell_type": "code",
   "execution_count": 14,
   "metadata": {},
   "outputs": [
    {
     "ename": "KeyboardInterrupt",
     "evalue": "",
     "output_type": "error",
     "traceback": [
      "\u001b[0;31m---------------------------------------------------------------------------\u001b[0m",
      "\u001b[0;31mKeyboardInterrupt\u001b[0m                         Traceback (most recent call last)",
      "\u001b[0;32m<ipython-input-14-592dbc078cc8>\u001b[0m in \u001b[0;36m<module>\u001b[0;34m\u001b[0m\n\u001b[1;32m      1\u001b[0m \u001b[0mnsga2\u001b[0m \u001b[0;34m=\u001b[0m \u001b[0mopt\u001b[0m\u001b[0;34m.\u001b[0m\u001b[0mNSGA2\u001b[0m\u001b[0;34m(\u001b[0m\u001b[0;34m)\u001b[0m\u001b[0;34m\u001b[0m\u001b[0;34m\u001b[0m\u001b[0m\n\u001b[1;32m      2\u001b[0m \u001b[0;34m\u001b[0m\u001b[0m\n\u001b[0;32m----> 3\u001b[0;31m \u001b[0;32mfor\u001b[0m \u001b[0mpop\u001b[0m\u001b[0;34m,\u001b[0m \u001b[0mpop_obj\u001b[0m\u001b[0;34m,\u001b[0m  \u001b[0mpop_cstr\u001b[0m\u001b[0;34m,\u001b[0m \u001b[0mpop_data\u001b[0m\u001b[0;34m,\u001b[0m \u001b[0mevals\u001b[0m \u001b[0;32min\u001b[0m \u001b[0mnsga2\u001b[0m\u001b[0;34m.\u001b[0m\u001b[0mminimize\u001b[0m\u001b[0;34m(\u001b[0m\u001b[0mc\u001b[0m\u001b[0;34m,\u001b[0m \u001b[0mpop_size\u001b[0m\u001b[0;34m=\u001b[0m\u001b[0;36m64\u001b[0m\u001b[0;34m)\u001b[0m\u001b[0;34m:\u001b[0m\u001b[0;34m\u001b[0m\u001b[0;34m\u001b[0m\u001b[0m\n\u001b[0m\u001b[1;32m      4\u001b[0m         \u001b[0mprint\u001b[0m\u001b[0;34m(\u001b[0m\u001b[0mevals\u001b[0m\u001b[0;34m)\u001b[0m\u001b[0;34m\u001b[0m\u001b[0;34m\u001b[0m\u001b[0m\n\u001b[1;32m      5\u001b[0m         \u001b[0mprint\u001b[0m\u001b[0;34m(\u001b[0m\u001b[0mpop_obj\u001b[0m\u001b[0;34m)\u001b[0m\u001b[0;34m\u001b[0m\u001b[0;34m\u001b[0m\u001b[0m\n",
      "\u001b[0;32m~/vscode_aida/aida-ob/src/optimizers.py\u001b[0m in \u001b[0;36mminimize\u001b[0;34m(self, problem, pop_size, evaluations, mutation, crossover, initial_pop)\u001b[0m\n\u001b[1;32m    349\u001b[0m \u001b[0;34m\u001b[0m\u001b[0m\n\u001b[1;32m    350\u001b[0m             self.offspring_dec, self.offspring_obj, self.offspring_cstr, self.offspring_data  = problem.individual(\n\u001b[0;32m--> 351\u001b[0;31m                 problem.variation(self.pop[mating_pool, :], mutation = mutation, crossover= crossover ))\n\u001b[0m\u001b[1;32m    352\u001b[0m \u001b[0;34m\u001b[0m\u001b[0m\n\u001b[1;32m    353\u001b[0m             \u001b[0mself\u001b[0m\u001b[0;34m.\u001b[0m\u001b[0mpop\u001b[0m \u001b[0;34m=\u001b[0m \u001b[0mnp\u001b[0m\u001b[0;34m.\u001b[0m\u001b[0mvstack\u001b[0m\u001b[0;34m(\u001b[0m\u001b[0;34m(\u001b[0m\u001b[0mself\u001b[0m\u001b[0;34m.\u001b[0m\u001b[0mpop\u001b[0m\u001b[0;34m,\u001b[0m \u001b[0mself\u001b[0m\u001b[0;34m.\u001b[0m\u001b[0moffspring_dec\u001b[0m\u001b[0;34m)\u001b[0m\u001b[0;34m)\u001b[0m\u001b[0;34m\u001b[0m\u001b[0;34m\u001b[0m\u001b[0m\n",
      "\u001b[0;32m~/vscode_aida/aida-ob/src/optimizers.py\u001b[0m in \u001b[0;36mindividual\u001b[0;34m(self, pop_vars)\u001b[0m\n\u001b[1;32m     75\u001b[0m         \u001b[0;34m:\u001b[0m\u001b[0;32mreturn\u001b[0m\u001b[0;34m:\u001b[0m \u001b[0;34m(\u001b[0m\u001b[0mpop_vars\u001b[0m\u001b[0;34m,\u001b[0m \u001b[0mpop_obj\u001b[0m\u001b[0;34m,\u001b[0m \u001b[0mpop_cstr\u001b[0m\u001b[0;34m)\u001b[0m\u001b[0;34m\u001b[0m\u001b[0;34m\u001b[0m\u001b[0m\n\u001b[1;32m     76\u001b[0m         \"\"\"\n\u001b[0;32m---> 77\u001b[0;31m         \u001b[0mpop_obj\u001b[0m\u001b[0;34m,\u001b[0m \u001b[0mpop_cstr\u001b[0m\u001b[0;34m,\u001b[0m \u001b[0mpop_data\u001b[0m \u001b[0;34m=\u001b[0m \u001b[0mself\u001b[0m\u001b[0;34m.\u001b[0m\u001b[0mcost_fun\u001b[0m\u001b[0;34m(\u001b[0m\u001b[0mpop_vars\u001b[0m\u001b[0;34m)\u001b[0m\u001b[0;34m\u001b[0m\u001b[0;34m\u001b[0m\u001b[0m\n\u001b[0m\u001b[1;32m     78\u001b[0m         \u001b[0;32mreturn\u001b[0m \u001b[0;34m(\u001b[0m\u001b[0mpop_vars\u001b[0m\u001b[0;34m,\u001b[0m \u001b[0mpop_obj\u001b[0m\u001b[0;34m,\u001b[0m \u001b[0mpop_cstr\u001b[0m\u001b[0;34m,\u001b[0m \u001b[0mpop_data\u001b[0m\u001b[0;34m)\u001b[0m\u001b[0;34m\u001b[0m\u001b[0;34m\u001b[0m\u001b[0m\n\u001b[1;32m     79\u001b[0m \u001b[0;34m\u001b[0m\u001b[0m\n",
      "\u001b[0;32m~/vscode_aida/aida-ob/src/circuits.py\u001b[0m in \u001b[0;36mcost_fun\u001b[0;34m(self, x)\u001b[0m\n\u001b[1;32m    106\u001b[0m \u001b[0;34m\u001b[0m\u001b[0m\n\u001b[1;32m    107\u001b[0m         \u001b[0;32mfor\u001b[0m \u001b[0mi\u001b[0m \u001b[0;32min\u001b[0m \u001b[0mrange\u001b[0m\u001b[0;34m(\u001b[0m\u001b[0mn\u001b[0m\u001b[0;34m)\u001b[0m\u001b[0;34m:\u001b[0m\u001b[0;34m\u001b[0m\u001b[0;34m\u001b[0m\u001b[0m\n\u001b[0;32m--> 108\u001b[0;31m             \u001b[0mmeasures\u001b[0m \u001b[0;34m=\u001b[0m \u001b[0mself\u001b[0m\u001b[0;34m.\u001b[0m\u001b[0msimulate\u001b[0m\u001b[0;34m(\u001b[0m\u001b[0mx\u001b[0m\u001b[0;34m[\u001b[0m\u001b[0mi\u001b[0m\u001b[0;34m,\u001b[0m\u001b[0;34m:\u001b[0m\u001b[0;34m]\u001b[0m\u001b[0;34m)\u001b[0m\u001b[0;34m\u001b[0m\u001b[0;34m\u001b[0m\u001b[0m\n\u001b[0m\u001b[1;32m    109\u001b[0m             \u001b[0mobj\u001b[0m\u001b[0;34m[\u001b[0m\u001b[0mi\u001b[0m\u001b[0;34m,\u001b[0m\u001b[0;34m:\u001b[0m\u001b[0;34m]\u001b[0m\u001b[0;34m,\u001b[0m\u001b[0mcstr\u001b[0m\u001b[0;34m[\u001b[0m\u001b[0mi\u001b[0m\u001b[0;34m]\u001b[0m\u001b[0;34m,\u001b[0m \u001b[0mlog\u001b[0m \u001b[0;34m=\u001b[0m \u001b[0mself\u001b[0m\u001b[0;34m.\u001b[0m\u001b[0mtarget\u001b[0m\u001b[0;34m.\u001b[0m\u001b[0mevaluate\u001b[0m\u001b[0;34m(\u001b[0m\u001b[0mmeasures\u001b[0m\u001b[0;34m)\u001b[0m\u001b[0;34m\u001b[0m\u001b[0;34m\u001b[0m\u001b[0m\n\u001b[1;32m    110\u001b[0m \u001b[0;34m\u001b[0m\u001b[0m\n",
      "\u001b[0;32m~/vscode_aida/aida-ob/src/circuits.py\u001b[0m in \u001b[0;36msimulate\u001b[0;34m(self, parameter_values, parameters)\u001b[0m\n\u001b[1;32m     85\u001b[0m         sim_results = self.ngspice.simulate(\n\u001b[1;32m     86\u001b[0m             \u001b[0mparam\u001b[0m \u001b[0;34m=\u001b[0m \u001b[0mself\u001b[0m\u001b[0;34m.\u001b[0m\u001b[0mparameters\u001b[0m \u001b[0;32mif\u001b[0m \u001b[0mparameters\u001b[0m \u001b[0;32mis\u001b[0m \u001b[0;32mNone\u001b[0m \u001b[0;32melse\u001b[0m \u001b[0mparameters\u001b[0m\u001b[0;34m,\u001b[0m\u001b[0;34m\u001b[0m\u001b[0;34m\u001b[0m\u001b[0m\n\u001b[0;32m---> 87\u001b[0;31m             values = parameter_values)\n\u001b[0m\u001b[1;32m     88\u001b[0m \u001b[0;34m\u001b[0m\u001b[0m\n\u001b[1;32m     89\u001b[0m         \u001b[0;32mreturn\u001b[0m \u001b[0msim_results\u001b[0m\u001b[0;34m\u001b[0m\u001b[0;34m\u001b[0m\u001b[0m\n",
      "\u001b[0;32m~/vscode_aida/aida-ob/src/ngspice.py\u001b[0m in \u001b[0;36msimulate\u001b[0;34m(self, param, values)\u001b[0m\n\u001b[1;32m    251\u001b[0m                 \u001b[0mt\u001b[0m\u001b[0;34m.\u001b[0m\u001b[0mstart\u001b[0m\u001b[0;34m(\u001b[0m\u001b[0;34m)\u001b[0m\u001b[0;34m\u001b[0m\u001b[0;34m\u001b[0m\u001b[0m\n\u001b[1;32m    252\u001b[0m \u001b[0;34m\u001b[0m\u001b[0m\n\u001b[0;32m--> 253\u001b[0;31m             \u001b[0mq\u001b[0m\u001b[0;34m.\u001b[0m\u001b[0mjoin\u001b[0m\u001b[0;34m(\u001b[0m\u001b[0;34m)\u001b[0m\u001b[0;34m\u001b[0m\u001b[0;34m\u001b[0m\u001b[0m\n\u001b[0m\u001b[1;32m    254\u001b[0m         \u001b[0;32melse\u001b[0m\u001b[0;34m:\u001b[0m\u001b[0;34m\u001b[0m\u001b[0;34m\u001b[0m\u001b[0m\n\u001b[1;32m    255\u001b[0m             \u001b[0msimulation\u001b[0m \u001b[0;34m=\u001b[0m \u001b[0mself\u001b[0m\u001b[0;34m.\u001b[0m\u001b[0msimulation_list\u001b[0m\u001b[0;34m[\u001b[0m\u001b[0;36m0\u001b[0m\u001b[0;34m]\u001b[0m\u001b[0;34m\u001b[0m\u001b[0;34m\u001b[0m\u001b[0m\n",
      "\u001b[0;32m/usr/lib64/python3.6/queue.py\u001b[0m in \u001b[0;36mjoin\u001b[0;34m(self)\u001b[0m\n\u001b[1;32m     81\u001b[0m         \u001b[0;32mwith\u001b[0m \u001b[0mself\u001b[0m\u001b[0;34m.\u001b[0m\u001b[0mall_tasks_done\u001b[0m\u001b[0;34m:\u001b[0m\u001b[0;34m\u001b[0m\u001b[0;34m\u001b[0m\u001b[0m\n\u001b[1;32m     82\u001b[0m             \u001b[0;32mwhile\u001b[0m \u001b[0mself\u001b[0m\u001b[0;34m.\u001b[0m\u001b[0munfinished_tasks\u001b[0m\u001b[0;34m:\u001b[0m\u001b[0;34m\u001b[0m\u001b[0;34m\u001b[0m\u001b[0m\n\u001b[0;32m---> 83\u001b[0;31m                 \u001b[0mself\u001b[0m\u001b[0;34m.\u001b[0m\u001b[0mall_tasks_done\u001b[0m\u001b[0;34m.\u001b[0m\u001b[0mwait\u001b[0m\u001b[0;34m(\u001b[0m\u001b[0;34m)\u001b[0m\u001b[0;34m\u001b[0m\u001b[0;34m\u001b[0m\u001b[0m\n\u001b[0m\u001b[1;32m     84\u001b[0m \u001b[0;34m\u001b[0m\u001b[0m\n\u001b[1;32m     85\u001b[0m     \u001b[0;32mdef\u001b[0m \u001b[0mqsize\u001b[0m\u001b[0;34m(\u001b[0m\u001b[0mself\u001b[0m\u001b[0;34m)\u001b[0m\u001b[0;34m:\u001b[0m\u001b[0;34m\u001b[0m\u001b[0;34m\u001b[0m\u001b[0m\n",
      "\u001b[0;32m/usr/lib64/python3.6/threading.py\u001b[0m in \u001b[0;36mwait\u001b[0;34m(self, timeout)\u001b[0m\n\u001b[1;32m    293\u001b[0m         \u001b[0;32mtry\u001b[0m\u001b[0;34m:\u001b[0m    \u001b[0;31m# restore state no matter what (e.g., KeyboardInterrupt)\u001b[0m\u001b[0;34m\u001b[0m\u001b[0;34m\u001b[0m\u001b[0m\n\u001b[1;32m    294\u001b[0m             \u001b[0;32mif\u001b[0m \u001b[0mtimeout\u001b[0m \u001b[0;32mis\u001b[0m \u001b[0;32mNone\u001b[0m\u001b[0;34m:\u001b[0m\u001b[0;34m\u001b[0m\u001b[0;34m\u001b[0m\u001b[0m\n\u001b[0;32m--> 295\u001b[0;31m                 \u001b[0mwaiter\u001b[0m\u001b[0;34m.\u001b[0m\u001b[0macquire\u001b[0m\u001b[0;34m(\u001b[0m\u001b[0;34m)\u001b[0m\u001b[0;34m\u001b[0m\u001b[0;34m\u001b[0m\u001b[0m\n\u001b[0m\u001b[1;32m    296\u001b[0m                 \u001b[0mgotit\u001b[0m \u001b[0;34m=\u001b[0m \u001b[0;32mTrue\u001b[0m\u001b[0;34m\u001b[0m\u001b[0;34m\u001b[0m\u001b[0m\n\u001b[1;32m    297\u001b[0m             \u001b[0;32melse\u001b[0m\u001b[0;34m:\u001b[0m\u001b[0;34m\u001b[0m\u001b[0;34m\u001b[0m\u001b[0m\n",
      "\u001b[0;31mKeyboardInterrupt\u001b[0m: "
     ]
    }
   ],
   "source": [
    "\n",
    "nsga2 = opt.NSGA2()\n",
    "\n",
    "for pop, pop_obj,  pop_cstr, pop_data, evals in nsga2.minimize(c, pop_size=64):\n",
    "        print(evals)\n",
    "        print(pop_obj)\n",
    "        print(pop_cstr)\n",
    "        print(pop_data[pop_cstr.argmax()][1])\n",
    "\n"
   ]
  },
  {
   "cell_type": "code",
   "execution_count": null,
   "metadata": {},
   "outputs": [],
   "source": [
    "\n",
    "\n",
    "import optimizers as opt\n",
    "import circuits as cir\n",
    "\n",
    "if __name__ == '__main__':\n",
    "\n",
    "    nsga2 = opt.NSGA2()\n",
    "\n",
    "    for pop, pop_obj,  pop_cstr, pop_data, evals, front_no in nsga2.minimize(\n",
    "        cir.Circuit(\"./circuit_examples/ptm130_folded_cascode/\"), pop_size=32):\n",
    "\n",
    "        print(evals)\n",
    "        print(pop_obj[pop_cstr.argmax()] , pop_cstr[pop_cstr.argmax()])\n",
    "        print(pop_data[pop_cstr.argmax()][1]['TT'])\n",
    "\n",
    "\n",
    "    quit()\n"
   ]
  },
  {
   "cell_type": "code",
   "execution_count": 1,
   "metadata": {},
   "outputs": [],
   "source": [
    "sessions = [1001, 2001, 2002, 2003,2004, 3001, 3002]\n",
    "files = [1,2,3,4,5,6,7,8]\n",
    "for si in sessions:\n",
    "    for fi in files:\n",
    "      try:\n",
    "        data = []\n",
    "        with open(\"../subject3/{}/Data{}.txt\".format(si, fi), 'r') as file:\n",
    "            for line in file:\n",
    "                line = line.strip() \n",
    "                if (not line) or (line[0] == '*'): continue\n",
    "                data.append(float(line))\n",
    "\n",
    "        t = 0\n",
    "        dt = 1.0/488\n",
    "        gain = 1e-3\n",
    "        with open(\"../subject3/{}/data{}.out\".format(si, fi), \"w\") as file: \n",
    "            for a in data:\n",
    "                file.write(\"{}\\t{}\\n\".format(t, (a*gain)))\n",
    "                t = t + dt;\n",
    "      except FileNotFoundError:\n",
    "        pass\n",
    "\n",
    "\n"
   ]
  },
  {
   "cell_type": "code",
   "execution_count": null,
   "metadata": {},
   "outputs": [],
   "source": [
    "meas = ngspice.simulate(cwd = folder, netlist=\"tb_ac2.cir\", param = parameters, val = values)\n",
    "meas[\"TT\"][\"NOISE\"] = []\n",
    "\n",
    "\n",
    "for m,v in meas[\"TT\"].items():\n",
    "    if \"VOV\" in m or \"DELTA\" in m: print(\"{} = {}\".format(m, v))"
   ]
  },
  {
   "cell_type": "code",
   "execution_count": 69,
   "metadata": {
    "tags": []
   },
   "outputs": [
    {
     "name": "stdout",
     "output_type": "stream",
     "text": [
      "0 [-3.53570134]\n",
      "1 [-3.53570134]\n",
      "2 [-3.42443285]\n",
      "3 [-3.42443285]\n",
      "4 [-3.24041173]\n",
      "5 [-2.37625982]\n",
      "6 [-2.21312003]\n",
      "7 [-1.91321226]\n",
      "8 [-1.20454718]\n",
      "9 [-1.20454718]\n",
      "10 [-1.20454718]\n"
     ]
    }
   ],
   "source": [
    "import numpy as np\n",
    "import optimizers as opt\n",
    "import circuits as cir\n",
    "import ngspice\n",
    "import importlib\n",
    "import random\n",
    "\n",
    "importlib.reload(opt)\n",
    "importlib.reload(cir)\n",
    "importlib.reload(ngspice)\n",
    "\n",
    "seed = 42\n",
    "np.random.seed(seed)\n",
    "random.seed(seed)\n",
    "    \n",
    "nsga2 = opt.NSGA2()\n",
    "i = 0\n",
    "history={}\n",
    "for pop, pop_obj,  pop_cstr, pop_data, evals, front_no in nsga2.minimize(\n",
    "        cir.Circuit(\"../circuit_examples/ptm130_folded_cascode/\", corners=None), \n",
    "        pop_size=64, evaluations=64*100, mutation=0.1, crossover=0.9):\n",
    "        \n",
    "        print(i, pop_cstr[pop_cstr.argmax()])\n",
    "        history[i] = (pop, pop_obj,  pop_cstr, pop_data, evals, front_no)\n",
    "        i = i + 1\n"
   ]
  },
  {
   "cell_type": "code",
   "execution_count": 59,
   "metadata": {},
   "outputs": [
    {
     "name": "stdout",
     "output_type": "stream",
     "text": [
      "[1. 1. 1. 1. 1. 1. 1. 1. 1. 1. 1. 1. 1. 1. 1. 1. 1. 1. 1. 1. 1. 1. 1. 1.\n",
      " 1. 1. 1. 1. 1. 1. 1. 1. 1. 1. 1. 1. 1. 1. 1. 1. 1. 1. 1. 1. 1. 1. 1. 1.\n",
      " 1. 1. 1. 1. 1. 1. 1. 1. 1. 1. 1. 1. 1. 1. 1. 1.]\n"
     ]
    }
   ],
   "source": [
    "print(history[0][5])\n",
    "\n"
   ]
  },
  {
   "cell_type": "code",
   "execution_count": 48,
   "metadata": {},
   "outputs": [
    {
     "name": "stdout",
     "output_type": "stream",
     "text": [
      "[1 2 4 5 6 2 1 2]\n",
      "[1 2 1 2 1 3 1 3]\n",
      "[0 1 4 5 6 2 7 3]\n",
      "[False  True False  True]\n",
      "[3 0 6 7 2 1 4 5]\n",
      "[False  True  True False]\n",
      "[1. 0. 5. 6. 6. 2. 7. 5.]\n"
     ]
    }
   ],
   "source": [
    "import numpy\n",
    "\n",
    "\n",
    "def half_tournemant(rank, cdist):\n",
    "    n = len(rank)\n",
    "    index_a = np.arange(n)\n",
    "    np.random.shuffle(index_a)\n",
    "    eq_rank = rank[index_a[:n//2]] == rank[index_a[n//2:]]\n",
    "    larger_cdist = cdist[index_a[:n//2]] > cdist[index_a[n//2:]]\n",
    "\n",
    "    decision_a = np.logical_or(np.logical_and(eq_rank, larger_cdist),  rank[index_a[:n//2]] < rank[index_a[n//2:]])\n",
    "\n",
    "    return index_a[np.r_[decision_a, ~decision_a]]\n",
    "    \n",
    "\n",
    "rank  = np.array([1, 2, 4, 5, 6, 2, 1, 2])\n",
    "cdist = np.array([1, 2, 1, 2, 1, 3, 1, 3])\n",
    "print(rank)\n",
    "print(cdist)\n",
    "\n",
    "n = len(rank)\n",
    "mate = np.zeros(n)\n",
    "mate[::2] = half_tournemant(rank, cdist)\n",
    "mate[1::2] = half_tournemant(rank, cdist)\n",
    "\n",
    "\n",
    "print(mate)\n",
    "\n",
    "    \n",
    "\n",
    "##\n",
    "##    for i in range(n):\n",
    "##        a = np.random.randint(n)\n",
    "##        b = np.random.randint(n)\n",
    "##        if rank[b] == rank[a] and cdist[b] > cdist[a]:\n",
    "##            a = b\n",
    "##        if rank[b] < rank[a]:\n",
    "##            a = b      \n",
    "##        mate.append(a)\n",
    "    \n"
   ]
  },
  {
   "cell_type": "code",
   "execution_count": 1,
   "metadata": {},
   "outputs": [
    {
     "name": "stdout",
     "output_type": "stream",
     "text": [
      "\"_w8\":1.000000e-06 \n",
      "\"_w6\":7.180000e-05 \n",
      "\"_w4\":1.570000e-05 \n",
      "\"_w10\":2.200000e-06 \n",
      "\"_w1\":1.600000e-06 \n",
      "\"_w0\":9.000000e-06 \n",
      "\"_l8\":9.400000e-07 \n",
      "\"_l6\":8.800000e-07 \n",
      "\"_l4\":6.700000e-07 \n",
      "\"_l10\":8.900000e-07 \n",
      "\"_l1\":8.900000e-07 \n",
      "\"_l0\":8.400000e-07 \n",
      "\"_nf8\":5.000000e+00 \n",
      "\"_nf6\":1.000000e+00 \n",
      "\"_nf4\":7.000000e+00 \n",
      "\"_nf10\":1.000000e+00 \n",
      "\"_nf1\":3.000000e+00 \n",
      "\"_nf0\":3.000000e+00 \n"
     ]
    }
   ],
   "source": [
    "parameters = ('_w8','_w6','_w4','_w10','_w1','_w0',\n",
    "          '_l8','_l6','_l4','_l10','_l1','_l0',\n",
    "          \"_nf8\",\"_nf6\", \"_nf4\", \"_nf10\", \"_nf1\", \"_nf0\" )\n",
    "          \n",
    "values     = ( 1.0000e-06, 7.1800e-05, 1.5700e-05, 2.2000e-06, 1.6000e-06, 9.0000e-06,\n",
    "           9.4000e-07, 8.8000e-07, 6.7000e-07, 8.9000e-07, 8.9000e-07, 8.4000e-07,\n",
    "           5.0000e+00, 1.0000e+00, 7.0000e+00, 1.0000e+00, 3.0000e+00, 3.0000e+00)\n",
    "\n",
    "for a, b in zip(parameters, values):\n",
    "    print('\"{}\":{:e},'.format(a,b))"
   ]
  },
  {
   "cell_type": "markdown",
   "metadata": {},
   "source": []
  }
 ],
 "metadata": {
  "interpreter": {
   "hash": "65d70750145bee902e9c8e4b5bd13ddcc37d25f93cb75f15c9bc0f9a82c5d507"
  },
  "kernelspec": {
   "display_name": "Python 3.8.10 64-bit ('myvenv': venv)",
   "name": "python3"
  },
  "language_info": {
   "codemirror_mode": {
    "name": "ipython",
    "version": 3
   },
   "file_extension": ".py",
   "mimetype": "text/x-python",
   "name": "python",
   "nbconvert_exporter": "python",
   "pygments_lexer": "ipython3",
   "version": "3.8.10"
  },
  "orig_nbformat": 2
 },
 "nbformat": 4,
 "nbformat_minor": 2
}
