{
 "metadata": {
  "language_info": {
   "codemirror_mode": {
    "name": "ipython",
    "version": 3
   },
   "file_extension": ".py",
   "mimetype": "text/x-python",
   "name": "python",
   "nbconvert_exporter": "python",
   "pygments_lexer": "ipython3",
   "version": "3.8.10"
  },
  "orig_nbformat": 2,
  "kernelspec": {
   "name": "python3",
   "display_name": "Python 3.8.10 64-bit ('myvenv': venv)"
  },
  "interpreter": {
   "hash": "65d70750145bee902e9c8e4b5bd13ddcc37d25f93cb75f15c9bc0f9a82c5d507"
  }
 },
 "nbformat": 4,
 "nbformat_minor": 2,
 "cells": [
  {
   "cell_type": "markdown",
   "source": [
    "## Run simulation and optimizations for the Single-Stage OTA Biased by Voltage-Combiners example\n"
   ],
   "metadata": {}
  },
  {
   "cell_type": "code",
   "execution_count": null,
   "source": [
    "import json\n",
    "import circuits as cir\n",
    "import pandas as pd\n",
    "import logging\n",
    "from datetime import datetime\n",
    "\n",
    "log_file = '../ss_vc.log'\n",
    "with open(log_file, \"w\") as f:\n",
    "    f.write(str(datetime.now().time()))\n",
    "\n",
    "logging.basicConfig(filename=log_file, level=logging.DEBUG)\n"
   ],
   "outputs": [],
   "metadata": {}
  },
  {
   "cell_type": "code",
   "execution_count": null,
   "source": [
    "# PTM 130\n",
    "#load the cicruit definitions and targets defined in circuit_setup.json\n",
    "ss_vc = cir.Circuit(\"../circuit_examples/ss_vc_ota/ptm130/\", corners=None)\n",
    "\n",
    "#load a sample sizing\n",
    "with open(\"../circuit_examples/ss_vc_ota/ptm130/sizing_example.json\", 'r') as file:\n",
    "    sizing = json.load(file)\n",
    "\n",
    "simulation_result = ss_vc.simulate(sizing)\n",
    "\n",
    "\n",
    "print(\"SS_VC PTM 130 TT Simulation Results\")\n",
    "\n",
    "df = pd.DataFrame(simulation_result[0]).transpose()\n",
    "\n",
    "df['CL'] *= 1e12  \n",
    "df.rename(columns = {\"CL\": \"CL[pF]\"}, inplace=True)  \n",
    "print(df)\n"
   ],
   "outputs": [],
   "metadata": {
    "tags": []
   }
  },
  {
   "cell_type": "code",
   "execution_count": null,
   "source": [
    "#load the cicruit definitions and targets defined in circuit_setup.json with corners from corners.inc\n",
    "ss_vc_corners = cir.Circuit(\"../circuit_examples/ss_vc_ota/ptm130/\")\n",
    "\n",
    "simulation_result_corners = ss_vc_corners.simulate(sizing)\n",
    "\n",
    "\n",
    "print(\"Simulation Results All Corners\")\n",
    "df = pd.DataFrame(simulation_result_corners[0]).transpose()\n",
    "\n",
    "# rescale CL to show not 0 in df\n",
    "#df['CL'] *= 1e12\n",
    "#df.rename(columns = {\"CL\": \"CL[pF]\"}, inplace=True)  \n",
    "print(df)"
   ],
   "outputs": [],
   "metadata": {
    "tags": []
   }
  },
  {
   "cell_type": "code",
   "execution_count": null,
   "source": [
    "obj,cstr,log = ss_vc.target.evaluate(simulation_result[0])\n",
    "\n",
    "print(\"Objectives TT\")\n",
    "\n",
    "print( {ss_vc.objectives[i][0]:(obj[i]*ss_vc.objectives[i][1]) for i in range(len(obj))})\n",
    "\n",
    "print(\"Constraints TT\")\n",
    "print(cstr)\n",
    "print(log)\n",
    "\n",
    "obj,cstr,log = ss_vc_corners.target.evaluate(simulation_result_corners[0])\n",
    "\n",
    "print(\"Objectives WC corners\")\n",
    "\n",
    "print( {ss_vc_corners.objectives[i][0]:(obj[i]*ss_vc_corners.objectives[i][1]) for i in range(len(obj))})\n"
   ],
   "outputs": [],
   "metadata": {
    "tags": []
   }
  },
  {
   "cell_type": "markdown",
   "source": [
    "## Optimizing in Nominal conditions\n",
    "\n",
    "Outputs are save to the output_folder\n",
    "\n",
    "This can take a while.\n"
   ],
   "metadata": {}
  },
  {
   "cell_type": "code",
   "execution_count": null,
   "source": [
    "cir.run_optimization(\"../circuit_examples/ss_vc_ota/ptm130/\", \"../run/ptm130_ss_vc/\",\n",
    "    pop_size=256, iterations=50)"
   ],
   "outputs": [],
   "metadata": {
    "tags": []
   }
  },
  {
   "cell_type": "code",
   "execution_count": null,
   "source": [
    "import plot_utils \n",
    "plot_utils.plt_pof([\"/home/nlourenco/open-analog-ics/BAIcO/run/ptm130_ss_vc/history_256_42_50.json\"], scales = [(\"[uA]\", 1e6),(\"[MHz]\", 1e-6),(\"[dB]\", 1.0)])"
   ],
   "outputs": [],
   "metadata": {}
  },
  {
   "cell_type": "code",
   "execution_count": null,
   "source": [
    "#SKY 130\n",
    "# load the cicruit definitions and targets defined in circuit_setup.json\n",
    "ss_vc = cir.Circuit(\"../circuit_examples/ss_vc_ota/sky130/\", corners=None)\n",
    "\n",
    "#load a sample sizing\n",
    "with open(\"../circuit_examples/ss_vc_ota/sky130/sizing_example.json\", 'r') as file:\n",
    "    sizing = json.load(file)\n",
    "\n",
    "simulation_result = ss_vc.simulate(sizing)\n",
    "\n",
    "\n",
    "print(\"SS_VC SKY 130 TT Simulation Results\")\n",
    "\n",
    "df = pd.DataFrame(simulation_result[0]).transpose()\n",
    "\n",
    "df['CL'] *= 1e12  \n",
    "df.rename(columns = {\"CL\": \"CL[pF]\"}, inplace=True)  \n",
    "print(df)\n"
   ],
   "outputs": [],
   "metadata": {}
  },
  {
   "cell_type": "code",
   "execution_count": null,
   "source": [
    "#load the cicruit definitions and targets defined in circuit_setup.json with corners from corners.inc\n",
    "ss_vc_corners = cir.Circuit(\"../circuit_examples/ss_vc_ota/sky130/\")\n",
    "\n",
    "simulation_result_corners = ss_vc_corners.simulate(sizing)\n",
    "\n",
    "\n",
    "print(\"Simulation Results All Corners\")\n",
    "df = pd.DataFrame(simulation_result_corners[0]).transpose()\n",
    "\n",
    "# rescale CL to show not 0 in df\n",
    "#df['CL'] *= 1e12\n",
    "#df.rename(columns = {\"CL\": \"CL[pF]\"}, inplace=True)  \n",
    "print(df)"
   ],
   "outputs": [],
   "metadata": {}
  },
  {
   "cell_type": "code",
   "execution_count": null,
   "source": [
    "obj,cstr,log = ss_vc.target.evaluate(simulation_result[0])\n",
    "\n",
    "print(\"Objectives TT\")\n",
    "\n",
    "print( {ss_vc.objectives[i][0]:(obj[i]*ss_vc.objectives[i][1]) for i in range(len(obj))})\n",
    "\n",
    "print(\"Constraints TT\")\n",
    "print(cstr)\n",
    "print(log)\n",
    "\n",
    "obj,cstr,log = ss_vc_corners.target.evaluate(simulation_result_corners[0])\n",
    "\n",
    "print(\"Objectives WC corners\")\n",
    "\n",
    "print( {ss_vc_corners.objectives[i][0]:(obj[i]*ss_vc_corners.objectives[i][1]) for i in range(len(obj))})"
   ],
   "outputs": [],
   "metadata": {}
  },
  {
   "cell_type": "code",
   "execution_count": null,
   "source": [
    "cir.run_optimization(\"../circuit_examples/ss_vc_ota/sky130/\", \"../run/sky130_ss_vc/\",\n",
    "    pop_size=256, iterations=50)"
   ],
   "outputs": [],
   "metadata": {}
  },
  {
   "cell_type": "code",
   "execution_count": null,
   "source": [],
   "outputs": [],
   "metadata": {}
  }
 ]
}