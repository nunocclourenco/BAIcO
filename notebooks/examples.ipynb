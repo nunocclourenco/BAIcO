{
 "metadata": {
  "language_info": {
   "codemirror_mode": {
    "name": "ipython",
    "version": 3
   },
   "file_extension": ".py",
   "mimetype": "text/x-python",
   "name": "python",
   "nbconvert_exporter": "python",
   "pygments_lexer": "ipython3",
   "version": "3.8.10"
  },
  "orig_nbformat": 2,
  "kernelspec": {
   "name": "python3",
   "display_name": "Python 3.8.10 64-bit ('myvenv': venv)"
  },
  "interpreter": {
   "hash": "65d70750145bee902e9c8e4b5bd13ddcc37d25f93cb75f15c9bc0f9a82c5d507"
  }
 },
 "nbformat": 4,
 "nbformat_minor": 2,
 "cells": [
  {
   "cell_type": "markdown",
   "source": [
    "# Run simulations for all examples \n",
    "\n",
    "Requires ngspice to be in the path."
   ],
   "metadata": {}
  },
  {
   "cell_type": "code",
   "execution_count": 13,
   "source": [
    "import json\n",
    "import circuits as cir\n",
    "import ngspice\n",
    "import pandas as pd\n",
    "\n",
    "def simulate_example_typical(circuit_path):\n",
    "    #load the cicruit definitions and targets defined in circuit_setup.json\n",
    "    circuit = cir.Circuit(circuit_path, corners=None)\n",
    "\n",
    "    #load the defaul example sizing\n",
    "    with open(circuit_path + \"sizing_example.json\", 'r') as file:\n",
    "        sizing = json.load(file)\n",
    "\n",
    "    return circuit.simulate(sizing)\n",
    "\n",
    "\n"
   ],
   "outputs": [],
   "metadata": {}
  },
  {
   "cell_type": "code",
   "execution_count": 19,
   "source": [
    "#Folded Cascode OTA PTM130 and SKY 130\n",
    "\n",
    "print(\"Folded Cascode SKY 130 TT Simulation Results\")\n",
    "simulation_result = simulate_example_typical(\"../circuit_examples/folded_cascode_ota/sky130/\")\n",
    "\n",
    "# rescales CL parameter for visialization purposes\n",
    "df = pd.DataFrame(simulation_result[0]).transpose()\n",
    "#df['CL'] *= 1e12  \n",
    "#df.rename(columns = {\"CL\": \"CL[pF]\"}, inplace=True)  \n",
    "print(df)\n",
    "\n",
    "\n",
    "print(\"Folded Cascode PTM 130 TT Simulation Results\")\n",
    "simulation_result = simulate_example_typical(\"../circuit_examples/folded_cascode_ota/ptm130/\")\n",
    "\n",
    "# rescales CL parameter for visialization purposes\n",
    "df = pd.DataFrame(simulation_result[0]).transpose()\n",
    "df['CL'] *= 1e12  \n",
    "df.rename(columns = {\"CL\": \"CL[pF]\"}, inplace=True)  \n",
    "print(df)\n",
    "\n"
   ],
   "outputs": [
    {
     "output_type": "stream",
     "name": "stdout",
     "text": [
      "Folded Cascode SKY 130 TT Simulation Results\n"
     ]
    },
    {
     "output_type": "error",
     "ename": "KeyError",
     "evalue": "'CL'",
     "traceback": [
      "\u001b[0;31m---------------------------------------------------------------------------\u001b[0m",
      "\u001b[0;31mKeyError\u001b[0m                                  Traceback (most recent call last)",
      "\u001b[0;32m~/open-analog-ics/BAIcO/myvenv/lib/python3.8/site-packages/pandas/core/indexes/base.py\u001b[0m in \u001b[0;36mget_loc\u001b[0;34m(self, key, method, tolerance)\u001b[0m\n\u001b[1;32m   2897\u001b[0m             \u001b[0;32mtry\u001b[0m\u001b[0;34m:\u001b[0m\u001b[0;34m\u001b[0m\u001b[0;34m\u001b[0m\u001b[0m\n\u001b[0;32m-> 2898\u001b[0;31m                 \u001b[0;32mreturn\u001b[0m \u001b[0mself\u001b[0m\u001b[0;34m.\u001b[0m\u001b[0m_engine\u001b[0m\u001b[0;34m.\u001b[0m\u001b[0mget_loc\u001b[0m\u001b[0;34m(\u001b[0m\u001b[0mcasted_key\u001b[0m\u001b[0;34m)\u001b[0m\u001b[0;34m\u001b[0m\u001b[0;34m\u001b[0m\u001b[0m\n\u001b[0m\u001b[1;32m   2899\u001b[0m             \u001b[0;32mexcept\u001b[0m \u001b[0mKeyError\u001b[0m \u001b[0;32mas\u001b[0m \u001b[0merr\u001b[0m\u001b[0;34m:\u001b[0m\u001b[0;34m\u001b[0m\u001b[0;34m\u001b[0m\u001b[0m\n",
      "\u001b[0;32mpandas/_libs/index.pyx\u001b[0m in \u001b[0;36mpandas._libs.index.IndexEngine.get_loc\u001b[0;34m()\u001b[0m\n",
      "\u001b[0;32mpandas/_libs/index.pyx\u001b[0m in \u001b[0;36mpandas._libs.index.IndexEngine.get_loc\u001b[0;34m()\u001b[0m\n",
      "\u001b[0;32mpandas/_libs/hashtable_class_helper.pxi\u001b[0m in \u001b[0;36mpandas._libs.hashtable.PyObjectHashTable.get_item\u001b[0;34m()\u001b[0m\n",
      "\u001b[0;32mpandas/_libs/hashtable_class_helper.pxi\u001b[0m in \u001b[0;36mpandas._libs.hashtable.PyObjectHashTable.get_item\u001b[0;34m()\u001b[0m\n",
      "\u001b[0;31mKeyError\u001b[0m: 'CL'",
      "\nThe above exception was the direct cause of the following exception:\n",
      "\u001b[0;31mKeyError\u001b[0m                                  Traceback (most recent call last)",
      "\u001b[0;32m<ipython-input-19-c88115b60791>\u001b[0m in \u001b[0;36m<module>\u001b[0;34m\u001b[0m\n\u001b[1;32m      6\u001b[0m \u001b[0;31m# rescales CL parameter for visialization purposes\u001b[0m\u001b[0;34m\u001b[0m\u001b[0;34m\u001b[0m\u001b[0;34m\u001b[0m\u001b[0m\n\u001b[1;32m      7\u001b[0m \u001b[0mdf\u001b[0m \u001b[0;34m=\u001b[0m \u001b[0mpd\u001b[0m\u001b[0;34m.\u001b[0m\u001b[0mDataFrame\u001b[0m\u001b[0;34m(\u001b[0m\u001b[0msimulation_result\u001b[0m\u001b[0;34m[\u001b[0m\u001b[0;36m0\u001b[0m\u001b[0;34m]\u001b[0m\u001b[0;34m)\u001b[0m\u001b[0;34m.\u001b[0m\u001b[0mtranspose\u001b[0m\u001b[0;34m(\u001b[0m\u001b[0;34m)\u001b[0m\u001b[0;34m\u001b[0m\u001b[0;34m\u001b[0m\u001b[0m\n\u001b[0;32m----> 8\u001b[0;31m \u001b[0mdf\u001b[0m\u001b[0;34m[\u001b[0m\u001b[0;34m'CL'\u001b[0m\u001b[0;34m]\u001b[0m \u001b[0;34m*=\u001b[0m \u001b[0;36m1e12\u001b[0m\u001b[0;34m\u001b[0m\u001b[0;34m\u001b[0m\u001b[0m\n\u001b[0m\u001b[1;32m      9\u001b[0m \u001b[0mdf\u001b[0m\u001b[0;34m.\u001b[0m\u001b[0mrename\u001b[0m\u001b[0;34m(\u001b[0m\u001b[0mcolumns\u001b[0m \u001b[0;34m=\u001b[0m \u001b[0;34m{\u001b[0m\u001b[0;34m\"CL\"\u001b[0m\u001b[0;34m:\u001b[0m \u001b[0;34m\"CL[pF]\"\u001b[0m\u001b[0;34m}\u001b[0m\u001b[0;34m,\u001b[0m \u001b[0minplace\u001b[0m\u001b[0;34m=\u001b[0m\u001b[0;32mTrue\u001b[0m\u001b[0;34m)\u001b[0m\u001b[0;34m\u001b[0m\u001b[0;34m\u001b[0m\u001b[0m\n\u001b[1;32m     10\u001b[0m \u001b[0mprint\u001b[0m\u001b[0;34m(\u001b[0m\u001b[0mdf\u001b[0m\u001b[0;34m)\u001b[0m\u001b[0;34m\u001b[0m\u001b[0;34m\u001b[0m\u001b[0m\n",
      "\u001b[0;32m~/open-analog-ics/BAIcO/myvenv/lib/python3.8/site-packages/pandas/core/frame.py\u001b[0m in \u001b[0;36m__getitem__\u001b[0;34m(self, key)\u001b[0m\n\u001b[1;32m   2904\u001b[0m             \u001b[0;32mif\u001b[0m \u001b[0mself\u001b[0m\u001b[0;34m.\u001b[0m\u001b[0mcolumns\u001b[0m\u001b[0;34m.\u001b[0m\u001b[0mnlevels\u001b[0m \u001b[0;34m>\u001b[0m \u001b[0;36m1\u001b[0m\u001b[0;34m:\u001b[0m\u001b[0;34m\u001b[0m\u001b[0;34m\u001b[0m\u001b[0m\n\u001b[1;32m   2905\u001b[0m                 \u001b[0;32mreturn\u001b[0m \u001b[0mself\u001b[0m\u001b[0;34m.\u001b[0m\u001b[0m_getitem_multilevel\u001b[0m\u001b[0;34m(\u001b[0m\u001b[0mkey\u001b[0m\u001b[0;34m)\u001b[0m\u001b[0;34m\u001b[0m\u001b[0;34m\u001b[0m\u001b[0m\n\u001b[0;32m-> 2906\u001b[0;31m             \u001b[0mindexer\u001b[0m \u001b[0;34m=\u001b[0m \u001b[0mself\u001b[0m\u001b[0;34m.\u001b[0m\u001b[0mcolumns\u001b[0m\u001b[0;34m.\u001b[0m\u001b[0mget_loc\u001b[0m\u001b[0;34m(\u001b[0m\u001b[0mkey\u001b[0m\u001b[0;34m)\u001b[0m\u001b[0;34m\u001b[0m\u001b[0;34m\u001b[0m\u001b[0m\n\u001b[0m\u001b[1;32m   2907\u001b[0m             \u001b[0;32mif\u001b[0m \u001b[0mis_integer\u001b[0m\u001b[0;34m(\u001b[0m\u001b[0mindexer\u001b[0m\u001b[0;34m)\u001b[0m\u001b[0;34m:\u001b[0m\u001b[0;34m\u001b[0m\u001b[0;34m\u001b[0m\u001b[0m\n\u001b[1;32m   2908\u001b[0m                 \u001b[0mindexer\u001b[0m \u001b[0;34m=\u001b[0m \u001b[0;34m[\u001b[0m\u001b[0mindexer\u001b[0m\u001b[0;34m]\u001b[0m\u001b[0;34m\u001b[0m\u001b[0;34m\u001b[0m\u001b[0m\n",
      "\u001b[0;32m~/open-analog-ics/BAIcO/myvenv/lib/python3.8/site-packages/pandas/core/indexes/base.py\u001b[0m in \u001b[0;36mget_loc\u001b[0;34m(self, key, method, tolerance)\u001b[0m\n\u001b[1;32m   2898\u001b[0m                 \u001b[0;32mreturn\u001b[0m \u001b[0mself\u001b[0m\u001b[0;34m.\u001b[0m\u001b[0m_engine\u001b[0m\u001b[0;34m.\u001b[0m\u001b[0mget_loc\u001b[0m\u001b[0;34m(\u001b[0m\u001b[0mcasted_key\u001b[0m\u001b[0;34m)\u001b[0m\u001b[0;34m\u001b[0m\u001b[0;34m\u001b[0m\u001b[0m\n\u001b[1;32m   2899\u001b[0m             \u001b[0;32mexcept\u001b[0m \u001b[0mKeyError\u001b[0m \u001b[0;32mas\u001b[0m \u001b[0merr\u001b[0m\u001b[0;34m:\u001b[0m\u001b[0;34m\u001b[0m\u001b[0;34m\u001b[0m\u001b[0m\n\u001b[0;32m-> 2900\u001b[0;31m                 \u001b[0;32mraise\u001b[0m \u001b[0mKeyError\u001b[0m\u001b[0;34m(\u001b[0m\u001b[0mkey\u001b[0m\u001b[0;34m)\u001b[0m \u001b[0;32mfrom\u001b[0m \u001b[0merr\u001b[0m\u001b[0;34m\u001b[0m\u001b[0;34m\u001b[0m\u001b[0m\n\u001b[0m\u001b[1;32m   2901\u001b[0m \u001b[0;34m\u001b[0m\u001b[0m\n\u001b[1;32m   2902\u001b[0m         \u001b[0;32mif\u001b[0m \u001b[0mtolerance\u001b[0m \u001b[0;32mis\u001b[0m \u001b[0;32mnot\u001b[0m \u001b[0;32mNone\u001b[0m\u001b[0;34m:\u001b[0m\u001b[0;34m\u001b[0m\u001b[0;34m\u001b[0m\u001b[0m\n",
      "\u001b[0;31mKeyError\u001b[0m: 'CL'"
     ]
    }
   ],
   "metadata": {
    "tags": []
   }
  },
  {
   "cell_type": "code",
   "execution_count": null,
   "source": [
    "#load the cicruit definitions and targets defined in circuit_setup.json with corners from corners.inc\n",
    "folded_cascode = cir.Circuit(\"./circuit_examples/ptm130_folded_cascode/\")\n",
    "\n",
    "#load a sample sizing\n",
    "with open(\"./circuit_examples/ptm130_folded_cascode/sizing_example.json\", 'r') as file:\n",
    "    sizing = json.load(file)\n",
    "\n",
    "simulation_result = folded_cascode.simulate(sizing)\n",
    "\n",
    "\n",
    "print(\"Simulation Results All Corners\")\n",
    "df = pd.DataFrame(simulation_result[0]).transpose()\n",
    "\n",
    "# rescale CL to show not 0 in df\n",
    "df['CL'] *= 1e12\n",
    "df.rename(columns = {\"CL\": \"CL[pF]\"}, inplace=True)  \n",
    "print(df)"
   ],
   "outputs": [],
   "metadata": {
    "tags": []
   }
  },
  {
   "cell_type": "code",
   "execution_count": null,
   "source": [
    "obj,cstr,log = folded_cascode.target.evaluate(simulation_result[0])\n",
    "\n",
    "print(\"Objectives\")\n",
    "\n",
    "print( {folded_cascode.objectives[i][0]:(obj[i]*folded_cascode.objectives[i][1]) for i in range(len(obj))})"
   ],
   "outputs": [],
   "metadata": {
    "tags": []
   }
  },
  {
   "cell_type": "code",
   "execution_count": null,
   "source": [],
   "outputs": [],
   "metadata": {}
  },
  {
   "cell_type": "markdown",
   "source": [
    "## Optimizing in Nominal conditions\n",
    "\n",
    "Outputs are save to the output_folder\n",
    "\n",
    "This can take a while.\n"
   ],
   "metadata": {}
  },
  {
   "cell_type": "code",
   "execution_count": 3,
   "source": [
    "import random\n",
    "from datetime import datetime\n",
    "import numpy as np\n",
    "import pandas as pd\n",
    "import os\n",
    "\n",
    "\n",
    "seed = 42\n",
    "np.random.seed(seed)\n",
    "random.seed(seed)\n",
    "nsga2 = opt.NSGA2()\n",
    "\n",
    "output_folder = \"./run/ptm130_folded_cascode/\"\n",
    "\n",
    "\n",
    "if not os.path.exists(output_folder):\n",
    "    os.makedirs(output_folder)\n",
    "\n",
    "\n",
    "i = 0\n",
    "folded_cascode = cir.Circuit(\"./circuit_examples/ptm130_folded_cascode/\", corners=None)\n",
    "for pop, pop_obj,  pop_cstr, pop_data, evals, front_no in nsga2.minimize(\n",
    "        folded_cascode,pop_size=256, evaluations=256*100, mutation=0.1, crossover=0.6):\n",
    "        \n",
    "        print(i, pop_cstr[pop_cstr.argmax()], datetime.now().time())\n",
    "        with open(\"{}history256_{}_{}.json\".format(output_folder,seed, i), \"w\") as file: \n",
    "            json.dump(\n",
    "            {\n",
    "                \"pop\":json.loads(pd.DataFrame(data=pop, columns=folded_cascode.parameters).to_json(orient=\"records\")),\n",
    "                \"obj\":json.loads(pd.DataFrame(data=pop_obj, columns=folded_cascode.objectives).to_json(orient=\"records\")),\n",
    "                \"cstr\":pop_cstr.tolist(),\n",
    "                \"data\":pop_data,\n",
    "                \"evals\":evals,\n",
    "                \"fn\":[ str(fn) for fn in front_no.tolist()]\n",
    "            },\n",
    "            file  \n",
    "            )\n",
    "        i = i + 1\n"
   ],
   "outputs": [
    {
     "output_type": "stream",
     "name": "stdout",
     "text": [
      "0 [-2.46806784] 23:15:19.318959\n",
      "1 [-1.08975836] 23:15:36.184764\n",
      "2 [-1.08975836] 23:15:54.950172\n",
      "3 [-1.08975836] 23:16:17.202781\n",
      "4 [-1.08975836] 23:16:40.593828\n",
      "5 [-0.42640278] 23:17:06.695972\n",
      "6 [-0.42640278] 23:17:28.089334\n",
      "7 [-0.38012679] 23:17:49.446514\n",
      "8 [-0.30998951] 23:18:15.087804\n",
      "9 [-0.27559957] 23:18:38.393919\n",
      "10 [-0.27559957] 23:19:00.872626\n",
      "11 [-0.27559957] 23:19:20.334230\n",
      "12 [-0.22000996] 23:19:39.683464\n",
      "13 [-0.22000996] 23:19:59.836749\n",
      "14 [-0.22000996] 23:20:21.941143\n",
      "15 [-0.22000996] 23:20:47.316056\n",
      "16 [-0.21890357] 23:21:06.089005\n",
      "17 [-0.13215336] 23:21:24.560100\n",
      "18 [-0.07368782] 23:21:41.311814\n",
      "19 [-0.0722602] 23:22:03.381337\n",
      "20 [-0.05250202] 23:22:27.372538\n",
      "21 [-0.02386589] 23:22:53.326756\n",
      "22 [-0.02386589] 23:23:14.525054\n",
      "23 [-0.00840327] 23:23:39.935825\n",
      "24 [-0.0018278] 23:24:02.799262\n",
      "25 [0.] 23:24:21.740788\n",
      "26 [0.] 23:24:39.644758\n",
      "27 [0.] 23:25:10.467506\n",
      "28 [0.] 23:25:29.692839\n",
      "29 [0.] 23:25:46.394140\n",
      "30 [0.] 23:26:04.686930\n",
      "31 [0.] 23:26:34.100390\n",
      "32 [0.] 23:26:51.072946\n",
      "33 [0.] 23:27:13.347806\n",
      "34 [0.] 23:27:32.043736\n"
     ]
    },
    {
     "output_type": "error",
     "ename": "KeyboardInterrupt",
     "evalue": "",
     "traceback": [
      "\u001b[0;31m---------------------------------------------------------------------------\u001b[0m",
      "\u001b[0;31mKeyboardInterrupt\u001b[0m                         Traceback (most recent call last)",
      "\u001b[0;32m<ipython-input-3-74fbd8e27c84>\u001b[0m in \u001b[0;36m<module>\u001b[0;34m\u001b[0m\n\u001b[1;32m     20\u001b[0m \u001b[0mi\u001b[0m \u001b[0;34m=\u001b[0m \u001b[0;36m0\u001b[0m\u001b[0;34m\u001b[0m\u001b[0;34m\u001b[0m\u001b[0m\n\u001b[1;32m     21\u001b[0m \u001b[0mfolded_cascode\u001b[0m \u001b[0;34m=\u001b[0m \u001b[0mcir\u001b[0m\u001b[0;34m.\u001b[0m\u001b[0mCircuit\u001b[0m\u001b[0;34m(\u001b[0m\u001b[0;34m\"./circuit_examples/ptm130_folded_cascode/\"\u001b[0m\u001b[0;34m,\u001b[0m \u001b[0mcorners\u001b[0m\u001b[0;34m=\u001b[0m\u001b[0;32mNone\u001b[0m\u001b[0;34m)\u001b[0m\u001b[0;34m\u001b[0m\u001b[0;34m\u001b[0m\u001b[0m\n\u001b[0;32m---> 22\u001b[0;31m for pop, pop_obj,  pop_cstr, pop_data, evals, front_no in nsga2.minimize(\n\u001b[0m\u001b[1;32m     23\u001b[0m         folded_cascode,pop_size=256, evaluations=256*100, mutation=0.1, crossover=0.6):\n\u001b[1;32m     24\u001b[0m \u001b[0;34m\u001b[0m\u001b[0m\n",
      "\u001b[0;32m~/open-analog-ics/BAIcO/src/optimizers.py\u001b[0m in \u001b[0;36mminimize\u001b[0;34m(self, problem, pop_size, evaluations, mutation, crossover, initial_pop)\u001b[0m\n\u001b[1;32m    352\u001b[0m             \u001b[0mmating_pool\u001b[0m \u001b[0;34m=\u001b[0m \u001b[0mtournament\u001b[0m\u001b[0;34m(\u001b[0m\u001b[0mfront_no\u001b[0m\u001b[0;34m,\u001b[0m \u001b[0mcrowd_dis\u001b[0m\u001b[0;34m)\u001b[0m\u001b[0;34m\u001b[0m\u001b[0;34m\u001b[0m\u001b[0m\n\u001b[1;32m    353\u001b[0m \u001b[0;34m\u001b[0m\u001b[0m\n\u001b[0;32m--> 354\u001b[0;31m             self.offspring_dec, self.offspring_obj, self.offspring_cstr, self.offspring_data = problem.individual(\n\u001b[0m\u001b[1;32m    355\u001b[0m                 problem.variation(self.pop[mating_pool, :], mutation = mutation, crossover= crossover ))\n\u001b[1;32m    356\u001b[0m \u001b[0;34m\u001b[0m\u001b[0m\n",
      "\u001b[0;32m~/open-analog-ics/BAIcO/src/optimizers.py\u001b[0m in \u001b[0;36mindividual\u001b[0;34m(self, pop_vars)\u001b[0m\n\u001b[1;32m     74\u001b[0m         \u001b[0;34m:\u001b[0m\u001b[0;32mreturn\u001b[0m\u001b[0;34m:\u001b[0m \u001b[0;34m(\u001b[0m\u001b[0mpop_vars\u001b[0m\u001b[0;34m,\u001b[0m \u001b[0mpop_obj\u001b[0m\u001b[0;34m,\u001b[0m \u001b[0mpop_cstr\u001b[0m\u001b[0;34m)\u001b[0m\u001b[0;34m\u001b[0m\u001b[0;34m\u001b[0m\u001b[0m\n\u001b[1;32m     75\u001b[0m         \"\"\"\n\u001b[0;32m---> 76\u001b[0;31m         \u001b[0mpop_obj\u001b[0m\u001b[0;34m,\u001b[0m \u001b[0mpop_cstr\u001b[0m\u001b[0;34m,\u001b[0m \u001b[0mpop_data\u001b[0m \u001b[0;34m=\u001b[0m \u001b[0mself\u001b[0m\u001b[0;34m.\u001b[0m\u001b[0mcost_fun\u001b[0m\u001b[0;34m(\u001b[0m\u001b[0mpop_vars\u001b[0m\u001b[0;34m)\u001b[0m\u001b[0;34m\u001b[0m\u001b[0;34m\u001b[0m\u001b[0m\n\u001b[0m\u001b[1;32m     77\u001b[0m         \u001b[0;32mreturn\u001b[0m \u001b[0;34m(\u001b[0m\u001b[0mpop_vars\u001b[0m\u001b[0;34m,\u001b[0m \u001b[0mpop_obj\u001b[0m\u001b[0;34m,\u001b[0m \u001b[0mpop_cstr\u001b[0m\u001b[0;34m,\u001b[0m \u001b[0mpop_data\u001b[0m\u001b[0;34m)\u001b[0m\u001b[0;34m\u001b[0m\u001b[0;34m\u001b[0m\u001b[0m\n\u001b[1;32m     78\u001b[0m \u001b[0;34m\u001b[0m\u001b[0m\n",
      "\u001b[0;32m~/open-analog-ics/BAIcO/src/circuits.py\u001b[0m in \u001b[0;36mcost_fun\u001b[0;34m(self, x)\u001b[0m\n\u001b[1;32m    115\u001b[0m         \u001b[0mcstr\u001b[0m \u001b[0;34m=\u001b[0m \u001b[0mnp\u001b[0m\u001b[0;34m.\u001b[0m\u001b[0mzeros\u001b[0m\u001b[0;34m(\u001b[0m\u001b[0;34m(\u001b[0m\u001b[0mn\u001b[0m\u001b[0;34m,\u001b[0m \u001b[0;36m1\u001b[0m\u001b[0;34m)\u001b[0m\u001b[0;34m)\u001b[0m\u001b[0;34m\u001b[0m\u001b[0;34m\u001b[0m\u001b[0m\n\u001b[1;32m    116\u001b[0m         \u001b[0mdata\u001b[0m \u001b[0;34m=\u001b[0m \u001b[0;34m[\u001b[0m\u001b[0;32mNone\u001b[0m\u001b[0;34m]\u001b[0m\u001b[0;34m*\u001b[0m\u001b[0mn\u001b[0m\u001b[0;34m\u001b[0m\u001b[0;34m\u001b[0m\u001b[0m\n\u001b[0;32m--> 117\u001b[0;31m         \u001b[0mmeasures\u001b[0m \u001b[0;34m=\u001b[0m \u001b[0mself\u001b[0m\u001b[0;34m.\u001b[0m\u001b[0msimulate\u001b[0m\u001b[0;34m(\u001b[0m\u001b[0mx\u001b[0m\u001b[0;34m)\u001b[0m\u001b[0;34m\u001b[0m\u001b[0;34m\u001b[0m\u001b[0m\n\u001b[0m\u001b[1;32m    118\u001b[0m \u001b[0;34m\u001b[0m\u001b[0m\n\u001b[1;32m    119\u001b[0m         \u001b[0;32mfor\u001b[0m \u001b[0mi\u001b[0m \u001b[0;32min\u001b[0m \u001b[0mrange\u001b[0m\u001b[0;34m(\u001b[0m\u001b[0mn\u001b[0m\u001b[0;34m)\u001b[0m\u001b[0;34m:\u001b[0m\u001b[0;34m\u001b[0m\u001b[0;34m\u001b[0m\u001b[0m\n",
      "\u001b[0;32m~/open-analog-ics/BAIcO/src/circuits.py\u001b[0m in \u001b[0;36msimulate\u001b[0;34m(self, values)\u001b[0m\n\u001b[1;32m     89\u001b[0m \u001b[0;34m\u001b[0m\u001b[0m\n\u001b[1;32m     90\u001b[0m \u001b[0;34m\u001b[0m\u001b[0m\n\u001b[0;32m---> 91\u001b[0;31m         \u001b[0msim_results\u001b[0m \u001b[0;34m=\u001b[0m \u001b[0mself\u001b[0m\u001b[0;34m.\u001b[0m\u001b[0mngspice\u001b[0m\u001b[0;34m.\u001b[0m\u001b[0msimulate\u001b[0m\u001b[0;34m(\u001b[0m \u001b[0mparameter_values\u001b[0m\u001b[0;34m)\u001b[0m\u001b[0;34m\u001b[0m\u001b[0;34m\u001b[0m\u001b[0m\n\u001b[0m\u001b[1;32m     92\u001b[0m \u001b[0;34m\u001b[0m\u001b[0m\n\u001b[1;32m     93\u001b[0m         \u001b[0;32mreturn\u001b[0m \u001b[0msim_results\u001b[0m\u001b[0;34m\u001b[0m\u001b[0;34m\u001b[0m\u001b[0m\n",
      "\u001b[0;32m~/open-analog-ics/BAIcO/src/ngspice.py\u001b[0m in \u001b[0;36msimulate\u001b[0;34m(self, values)\u001b[0m\n\u001b[1;32m    285\u001b[0m                     sim_results[i], values[i,:]))\n\u001b[1;32m    286\u001b[0m \u001b[0;34m\u001b[0m\u001b[0m\n\u001b[0;32m--> 287\u001b[0;31m         \u001b[0mself\u001b[0m\u001b[0;34m.\u001b[0m\u001b[0mq\u001b[0m\u001b[0;34m.\u001b[0m\u001b[0mjoin\u001b[0m\u001b[0;34m(\u001b[0m\u001b[0;34m)\u001b[0m\u001b[0;34m\u001b[0m\u001b[0;34m\u001b[0m\u001b[0m\n\u001b[0m\u001b[1;32m    288\u001b[0m \u001b[0;34m\u001b[0m\u001b[0m\n\u001b[1;32m    289\u001b[0m         \u001b[0;31m# consider to create/update worker threads for this also\u001b[0m\u001b[0;34m\u001b[0m\u001b[0;34m\u001b[0m\u001b[0;34m\u001b[0m\u001b[0m\n",
      "\u001b[0;32m/usr/lib/python3.8/queue.py\u001b[0m in \u001b[0;36mjoin\u001b[0;34m(self)\u001b[0m\n\u001b[1;32m     87\u001b[0m         \u001b[0;32mwith\u001b[0m \u001b[0mself\u001b[0m\u001b[0;34m.\u001b[0m\u001b[0mall_tasks_done\u001b[0m\u001b[0;34m:\u001b[0m\u001b[0;34m\u001b[0m\u001b[0;34m\u001b[0m\u001b[0m\n\u001b[1;32m     88\u001b[0m             \u001b[0;32mwhile\u001b[0m \u001b[0mself\u001b[0m\u001b[0;34m.\u001b[0m\u001b[0munfinished_tasks\u001b[0m\u001b[0;34m:\u001b[0m\u001b[0;34m\u001b[0m\u001b[0;34m\u001b[0m\u001b[0m\n\u001b[0;32m---> 89\u001b[0;31m                 \u001b[0mself\u001b[0m\u001b[0;34m.\u001b[0m\u001b[0mall_tasks_done\u001b[0m\u001b[0;34m.\u001b[0m\u001b[0mwait\u001b[0m\u001b[0;34m(\u001b[0m\u001b[0;34m)\u001b[0m\u001b[0;34m\u001b[0m\u001b[0;34m\u001b[0m\u001b[0m\n\u001b[0m\u001b[1;32m     90\u001b[0m \u001b[0;34m\u001b[0m\u001b[0m\n\u001b[1;32m     91\u001b[0m     \u001b[0;32mdef\u001b[0m \u001b[0mqsize\u001b[0m\u001b[0;34m(\u001b[0m\u001b[0mself\u001b[0m\u001b[0;34m)\u001b[0m\u001b[0;34m:\u001b[0m\u001b[0;34m\u001b[0m\u001b[0;34m\u001b[0m\u001b[0m\n",
      "\u001b[0;32m/usr/lib/python3.8/threading.py\u001b[0m in \u001b[0;36mwait\u001b[0;34m(self, timeout)\u001b[0m\n\u001b[1;32m    300\u001b[0m         \u001b[0;32mtry\u001b[0m\u001b[0;34m:\u001b[0m    \u001b[0;31m# restore state no matter what (e.g., KeyboardInterrupt)\u001b[0m\u001b[0;34m\u001b[0m\u001b[0;34m\u001b[0m\u001b[0m\n\u001b[1;32m    301\u001b[0m             \u001b[0;32mif\u001b[0m \u001b[0mtimeout\u001b[0m \u001b[0;32mis\u001b[0m \u001b[0;32mNone\u001b[0m\u001b[0;34m:\u001b[0m\u001b[0;34m\u001b[0m\u001b[0;34m\u001b[0m\u001b[0m\n\u001b[0;32m--> 302\u001b[0;31m                 \u001b[0mwaiter\u001b[0m\u001b[0;34m.\u001b[0m\u001b[0macquire\u001b[0m\u001b[0;34m(\u001b[0m\u001b[0;34m)\u001b[0m\u001b[0;34m\u001b[0m\u001b[0;34m\u001b[0m\u001b[0m\n\u001b[0m\u001b[1;32m    303\u001b[0m                 \u001b[0mgotit\u001b[0m \u001b[0;34m=\u001b[0m \u001b[0;32mTrue\u001b[0m\u001b[0;34m\u001b[0m\u001b[0;34m\u001b[0m\u001b[0m\n\u001b[1;32m    304\u001b[0m             \u001b[0;32melse\u001b[0m\u001b[0;34m:\u001b[0m\u001b[0;34m\u001b[0m\u001b[0;34m\u001b[0m\u001b[0m\n",
      "\u001b[0;31mKeyboardInterrupt\u001b[0m: "
     ]
    }
   ],
   "metadata": {
    "tags": []
   }
  },
  {
   "cell_type": "code",
   "execution_count": null,
   "source": [
    "import plot_utils \n",
    "importlib.reload(plot_utils)\n",
    "\n",
    "plot_utils.plt_pof([\"{}history256_{}_{}.json\".format(output_folder,seed, 100)], scales = [(\"[uA]\", 1e6),(\"[MHz]\", 1e-6),(\"[dB]\", 1.0)])\n",
    "\n"
   ],
   "outputs": [],
   "metadata": {}
  },
  {
   "cell_type": "markdown",
   "source": [],
   "metadata": {}
  },
  {
   "cell_type": "code",
   "execution_count": 1,
   "source": [
    "import os\n",
    "os.environ\n"
   ],
   "outputs": [
    {
     "output_type": "execute_result",
     "data": {
      "text/plain": [
       "environ{'SHELL': '/bin/bash',\n",
       "        'VSCODE_VERBOSE_LOGGING': 'true',\n",
       "        'LIBGL_ALWAYS_INDIRECT': '1',\n",
       "        'PYTHONUNBUFFERED': '1',\n",
       "        'APPLICATION_INSIGHTS_NO_DIAGNOSTIC_CHANNEL': 'true',\n",
       "        'VSCODE_LOG_STACK': 'false',\n",
       "        'WSL_DISTRO_NAME': 'Ubuntu',\n",
       "        'VSCODE_INJECT_NODE_MODULE_LOOKUP_PATH': '/home/nlourenco/.vscode-server/bin/379476f0e13988d90fab105c5c19e7abc8b1dea8/remote/node_modules',\n",
       "        'VSCODE_PIPE_LOGGING': 'true',\n",
       "        'VSCODE_AMD_ENTRYPOINT': 'vs/server/remoteExtensionHostProcess',\n",
       "        'NAME': 'Code',\n",
       "        'PWD': '/mnt/c/Users/Nuno/AppData/Local/Programs/Microsoft VS Code',\n",
       "        'LOGNAME': 'nlourenco',\n",
       "        'MOTD_SHOWN': 'update-motd',\n",
       "        'HOME': '/home/nlourenco',\n",
       "        'LANG': 'C.UTF-8',\n",
       "        'WSL_INTEROP': '/run/WSL/7_interop',\n",
       "        'LS_COLORS': 'rs=0:di=01;34:ln=01;36:mh=00:pi=40;33:so=01;35:do=01;35:bd=40;33;01:cd=40;33;01:or=40;31;01:mi=00:su=37;41:sg=30;43:ca=30;41:tw=30;42:ow=34;42:st=37;44:ex=01;32:*.tar=01;31:*.tgz=01;31:*.arc=01;31:*.arj=01;31:*.taz=01;31:*.lha=01;31:*.lz4=01;31:*.lzh=01;31:*.lzma=01;31:*.tlz=01;31:*.txz=01;31:*.tzo=01;31:*.t7z=01;31:*.zip=01;31:*.z=01;31:*.dz=01;31:*.gz=01;31:*.lrz=01;31:*.lz=01;31:*.lzo=01;31:*.xz=01;31:*.zst=01;31:*.tzst=01;31:*.bz2=01;31:*.bz=01;31:*.tbz=01;31:*.tbz2=01;31:*.tz=01;31:*.deb=01;31:*.rpm=01;31:*.jar=01;31:*.war=01;31:*.ear=01;31:*.sar=01;31:*.rar=01;31:*.alz=01;31:*.ace=01;31:*.zoo=01;31:*.cpio=01;31:*.7z=01;31:*.rz=01;31:*.cab=01;31:*.wim=01;31:*.swm=01;31:*.dwm=01;31:*.esd=01;31:*.jpg=01;35:*.jpeg=01;35:*.mjpg=01;35:*.mjpeg=01;35:*.gif=01;35:*.bmp=01;35:*.pbm=01;35:*.pgm=01;35:*.ppm=01;35:*.tga=01;35:*.xbm=01;35:*.xpm=01;35:*.tif=01;35:*.tiff=01;35:*.png=01;35:*.svg=01;35:*.svgz=01;35:*.mng=01;35:*.pcx=01;35:*.mov=01;35:*.mpg=01;35:*.mpeg=01;35:*.m2v=01;35:*.mkv=01;35:*.webm=01;35:*.ogm=01;35:*.mp4=01;35:*.m4v=01;35:*.mp4v=01;35:*.vob=01;35:*.qt=01;35:*.nuv=01;35:*.wmv=01;35:*.asf=01;35:*.rm=01;35:*.rmvb=01;35:*.flc=01;35:*.avi=01;35:*.fli=01;35:*.flv=01;35:*.gl=01;35:*.dl=01;35:*.xcf=01;35:*.xwd=01;35:*.yuv=01;35:*.cgm=01;35:*.emf=01;35:*.ogv=01;35:*.ogx=01;35:*.aac=00;36:*.au=00;36:*.flac=00;36:*.m4a=00;36:*.mid=00;36:*.midi=00;36:*.mka=00;36:*.mp3=00;36:*.mpc=00;36:*.ogg=00;36:*.ra=00;36:*.wav=00;36:*.oga=00;36:*.opus=00;36:*.spx=00;36:*.xspf=00;36:',\n",
       "        'VIRTUAL_ENV': '/home/nlourenco/open-analog-ics/BAIcO/myvenv',\n",
       "        'VSCODE_AGENT_FOLDER': '/home/nlourenco/.vscode-server',\n",
       "        'GEM_HOME': '/home/nlourenco/gems',\n",
       "        'LESSCLOSE': '/usr/bin/lesspipe %s %s',\n",
       "        'VSCODE_EXTHOST_WILL_SEND_SOCKET': 'true',\n",
       "        'PYTHONPATH': '/mnt/c/Users/Nuno/AppData/Local/Programs/Microsoft VS Code/src/:/mnt/c/Users/Nuno/AppData/Local/Programs/Microsoft VS Code/test/:/mnt/c/Users/Nuno/AppData/Local/Programs/Microsoft VS Code/notebooks/::/home/nlourenco/.vscode-server/extensions/ms-toolsai.jupyter-2021.8.1054968649/pythonFiles:/home/nlourenco/.vscode-server/extensions/ms-toolsai.jupyter-2021.8.1054968649/pythonFiles/lib/python',\n",
       "        'TERM': 'xterm-color',\n",
       "        'LESSOPEN': '| /usr/bin/lesspipe %s',\n",
       "        'USER': 'nlourenco',\n",
       "        'PYTHONIOENCODING': 'utf-8',\n",
       "        'DISPLAY': '172.31.224.1:0.0',\n",
       "        'SHLVL': '1',\n",
       "        'VSCODE_CWD': '/mnt/c/Users/Nuno/AppData/Local/Programs/Microsoft VS Code',\n",
       "        'PS1': '(myvenv) ',\n",
       "        'WSLENV': 'ELECTRON_RUN_AS_NODE/w:',\n",
       "        'VSCODE_WSL_EXT_LOCATION': '/mnt/c/Users/Nuno/.vscode/extensions/ms-vscode-remote.remote-wsl-0.58.2',\n",
       "        'XDG_DATA_DIRS': '/usr/local/share:/usr/share:/var/lib/snapd/desktop',\n",
       "        'PATH': '/home/nlourenco/open-analog-ics/BAIcO/myvenv/bin:/home/nlourenco/.vscode-server/bin/379476f0e13988d90fab105c5c19e7abc8b1dea8/bin:/usr/local/sbin:/usr/local/bin:/usr/sbin:/usr/bin:/sbin:/bin:/usr/games:/usr/local/games:/mnt/c/Program Files/WindowsApps/CanonicalGroupLimited.UbuntuonWindows_2004.2021.222.0_x64__79rhkp1fndgsc:/mnt/c/Program Files (x86)/VMware/VMware Workstation/bin/:/mnt/c/WINDOWS/system32:/mnt/c/WINDOWS:/mnt/c/WINDOWS/System32/Wbem:/mnt/c/WINDOWS/System32/WindowsPowerShell/v1.0/:/mnt/c/WINDOWS/System32/OpenSSH/:/mnt/c/Program Files/Portugal Identity Card/:/mnt/c/Users/Nuno/AppData/Local/Microsoft/WindowsApps:/mnt/c/Users/Nuno/AppData/Local/Programs/Microsoft VS Code/bin:/snap/bin',\n",
       "        'VSCODE_NLS_CONFIG': '{\"locale\":\"en\",\"availableLanguages\":{}}',\n",
       "        'HOSTTYPE': 'x86_64',\n",
       "        'VSCODE_LOG_NATIVE': 'false',\n",
       "        'VSCODE_HANDLES_UNCAUGHT_ERRORS': 'true',\n",
       "        'VSCODE_IPC_HOOK_CLI': '/tmp/vscode-ipc-102712eb-6528-4d7d-a5a8-89da335524c4.sock',\n",
       "        '_': '/home/nlourenco/open-analog-ics/BAIcO/myvenv/bin/python',\n",
       "        'JPY_PARENT_PID': '12063',\n",
       "        'CLICOLOR': '1',\n",
       "        'PAGER': 'cat',\n",
       "        'GIT_PAGER': 'cat',\n",
       "        'MPLBACKEND': 'module://ipykernel.pylab.backend_inline'}"
      ]
     },
     "metadata": {},
     "execution_count": 1
    }
   ],
   "metadata": {}
  },
  {
   "cell_type": "code",
   "execution_count": null,
   "source": [],
   "outputs": [],
   "metadata": {}
  }
 ]
}