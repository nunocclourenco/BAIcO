{
 "metadata": {
  "language_info": {
   "codemirror_mode": {
    "name": "ipython",
    "version": 3
   },
   "file_extension": ".py",
   "mimetype": "text/x-python",
   "name": "python",
   "nbconvert_exporter": "python",
   "pygments_lexer": "ipython3",
   "version": "3.8.5"
  },
  "orig_nbformat": 2,
  "kernelspec": {
   "name": "python3",
   "display_name": "Python 3.8.5 64-bit ('myvenv': venv)"
  },
  "interpreter": {
   "hash": "65d70750145bee902e9c8e4b5bd13ddcc37d25f93cb75f15c9bc0f9a82c5d507"
  }
 },
 "nbformat": 4,
 "nbformat_minor": 2,
 "cells": [
  {
   "source": [
    "## Run simulation and optimizations for the folded cascode example\n"
   ],
   "cell_type": "markdown",
   "metadata": {}
  },
  {
   "cell_type": "code",
   "execution_count": 2,
   "metadata": {},
   "outputs": [
    {
     "output_type": "execute_result",
     "data": {
      "text/plain": [
       "<module 'ngspice' from '/home/nlourenco/open-analog-ics/BAIcO/src/ngspice.py'>"
      ]
     },
     "metadata": {},
     "execution_count": 2
    }
   ],
   "source": [
    "import json\n",
    "import circuits as cir\n",
    "import optimizers as opt\n",
    "import ngspice\n",
    "import pandas as pd\n",
    "\n",
    "import importlib\n",
    "importlib.reload(cir)\n",
    "importlib.reload(opt)\n",
    "importlib.reload(ngspice)\n"
   ]
  },
  {
   "cell_type": "code",
   "execution_count": null,
   "metadata": {
    "tags": []
   },
   "outputs": [],
   "source": [
    "#load the cicruit definitions and targets defined in circuit_setup.json\n",
    "folded_cascode = cir.Circuit(\"./circuit_examples/ptm130_folded_cascode/\", corners=None)\n",
    "\n",
    "#load a sample sizing\n",
    "with open(\"./circuit_examples/ptm130_folded_cascode/sizing_example.json\", 'r') as file:\n",
    "    sizing = json.load(file)\n",
    "\n",
    "simulation_result = folded_cascode.simulate(sizing)\n",
    "\n",
    "\n",
    "print(\"Simulation Results Typ Only\")\n",
    "\n",
    "df = pd.DataFrame(simulation_result[0]).transpose()\n",
    "\n",
    "df['CL'] *= 1e12  \n",
    "df.rename(columns = {\"CL\": \"CL[pF]\"}, inplace=True)  \n",
    "print(df)\n"
   ]
  },
  {
   "cell_type": "code",
   "execution_count": null,
   "metadata": {
    "tags": []
   },
   "outputs": [],
   "source": [
    "#load the cicruit definitions and targets defined in circuit_setup.json with corners from corners.inc\n",
    "folded_cascode = cir.Circuit(\"./circuit_examples/ptm130_folded_cascode/\")\n",
    "\n",
    "#load a sample sizing\n",
    "with open(\"./circuit_examples/ptm130_folded_cascode/sizing_example.json\", 'r') as file:\n",
    "    sizing = json.load(file)\n",
    "\n",
    "simulation_result = folded_cascode.simulate(sizing)\n",
    "\n",
    "\n",
    "print(\"Simulation Results All Corners\")\n",
    "df = pd.DataFrame(simulation_result[0]).transpose()\n",
    "\n",
    "# rescale CL to show not 0 in df\n",
    "df['CL'] *= 1e12\n",
    "df.rename(columns = {\"CL\": \"CL[pF]\"}, inplace=True)  \n",
    "print(df)"
   ]
  },
  {
   "cell_type": "code",
   "execution_count": null,
   "metadata": {
    "tags": []
   },
   "outputs": [],
   "source": [
    "obj,cstr,log = folded_cascode.target.evaluate(simulation_result[0])\n",
    "\n",
    "print(\"Objectives\")\n",
    "\n",
    "print( {folded_cascode.objectives[i][0]:(obj[i]*folded_cascode.objectives[i][1]) for i in range(len(obj))})"
   ]
  },
  {
   "source": [
    "## Optimizing in Nominal conditions\n",
    "\n",
    "Outputs are save to the output_folder\n",
    "\n",
    "This can take a while.\n"
   ],
   "cell_type": "markdown",
   "metadata": {}
  },
  {
   "cell_type": "code",
   "execution_count": 3,
   "metadata": {
    "tags": []
   },
   "outputs": [
    {
     "output_type": "stream",
     "name": "stdout",
     "text": [
      "0 [-2.46806784] 23:15:19.318959\n",
      "1 [-1.08975836] 23:15:36.184764\n",
      "2 [-1.08975836] 23:15:54.950172\n",
      "3 [-1.08975836] 23:16:17.202781\n",
      "4 [-1.08975836] 23:16:40.593828\n",
      "5 [-0.42640278] 23:17:06.695972\n",
      "6 [-0.42640278] 23:17:28.089334\n",
      "7 [-0.38012679] 23:17:49.446514\n",
      "8 [-0.30998951] 23:18:15.087804\n",
      "9 [-0.27559957] 23:18:38.393919\n",
      "10 [-0.27559957] 23:19:00.872626\n",
      "11 [-0.27559957] 23:19:20.334230\n",
      "12 [-0.22000996] 23:19:39.683464\n",
      "13 [-0.22000996] 23:19:59.836749\n",
      "14 [-0.22000996] 23:20:21.941143\n",
      "15 [-0.22000996] 23:20:47.316056\n",
      "16 [-0.21890357] 23:21:06.089005\n",
      "17 [-0.13215336] 23:21:24.560100\n",
      "18 [-0.07368782] 23:21:41.311814\n",
      "19 [-0.0722602] 23:22:03.381337\n",
      "20 [-0.05250202] 23:22:27.372538\n",
      "21 [-0.02386589] 23:22:53.326756\n",
      "22 [-0.02386589] 23:23:14.525054\n",
      "23 [-0.00840327] 23:23:39.935825\n",
      "24 [-0.0018278] 23:24:02.799262\n",
      "25 [0.] 23:24:21.740788\n",
      "26 [0.] 23:24:39.644758\n",
      "27 [0.] 23:25:10.467506\n",
      "28 [0.] 23:25:29.692839\n",
      "29 [0.] 23:25:46.394140\n",
      "30 [0.] 23:26:04.686930\n",
      "31 [0.] 23:26:34.100390\n",
      "32 [0.] 23:26:51.072946\n",
      "33 [0.] 23:27:13.347806\n",
      "34 [0.] 23:27:32.043736\n"
     ]
    },
    {
     "output_type": "error",
     "ename": "KeyboardInterrupt",
     "evalue": "",
     "traceback": [
      "\u001b[0;31m---------------------------------------------------------------------------\u001b[0m",
      "\u001b[0;31mKeyboardInterrupt\u001b[0m                         Traceback (most recent call last)",
      "\u001b[0;32m<ipython-input-3-74fbd8e27c84>\u001b[0m in \u001b[0;36m<module>\u001b[0;34m\u001b[0m\n\u001b[1;32m     20\u001b[0m \u001b[0mi\u001b[0m \u001b[0;34m=\u001b[0m \u001b[0;36m0\u001b[0m\u001b[0;34m\u001b[0m\u001b[0;34m\u001b[0m\u001b[0m\n\u001b[1;32m     21\u001b[0m \u001b[0mfolded_cascode\u001b[0m \u001b[0;34m=\u001b[0m \u001b[0mcir\u001b[0m\u001b[0;34m.\u001b[0m\u001b[0mCircuit\u001b[0m\u001b[0;34m(\u001b[0m\u001b[0;34m\"./circuit_examples/ptm130_folded_cascode/\"\u001b[0m\u001b[0;34m,\u001b[0m \u001b[0mcorners\u001b[0m\u001b[0;34m=\u001b[0m\u001b[0;32mNone\u001b[0m\u001b[0;34m)\u001b[0m\u001b[0;34m\u001b[0m\u001b[0;34m\u001b[0m\u001b[0m\n\u001b[0;32m---> 22\u001b[0;31m for pop, pop_obj,  pop_cstr, pop_data, evals, front_no in nsga2.minimize(\n\u001b[0m\u001b[1;32m     23\u001b[0m         folded_cascode,pop_size=256, evaluations=256*100, mutation=0.1, crossover=0.6):\n\u001b[1;32m     24\u001b[0m \u001b[0;34m\u001b[0m\u001b[0m\n",
      "\u001b[0;32m~/open-analog-ics/BAIcO/src/optimizers.py\u001b[0m in \u001b[0;36mminimize\u001b[0;34m(self, problem, pop_size, evaluations, mutation, crossover, initial_pop)\u001b[0m\n\u001b[1;32m    352\u001b[0m             \u001b[0mmating_pool\u001b[0m \u001b[0;34m=\u001b[0m \u001b[0mtournament\u001b[0m\u001b[0;34m(\u001b[0m\u001b[0mfront_no\u001b[0m\u001b[0;34m,\u001b[0m \u001b[0mcrowd_dis\u001b[0m\u001b[0;34m)\u001b[0m\u001b[0;34m\u001b[0m\u001b[0;34m\u001b[0m\u001b[0m\n\u001b[1;32m    353\u001b[0m \u001b[0;34m\u001b[0m\u001b[0m\n\u001b[0;32m--> 354\u001b[0;31m             self.offspring_dec, self.offspring_obj, self.offspring_cstr, self.offspring_data = problem.individual(\n\u001b[0m\u001b[1;32m    355\u001b[0m                 problem.variation(self.pop[mating_pool, :], mutation = mutation, crossover= crossover ))\n\u001b[1;32m    356\u001b[0m \u001b[0;34m\u001b[0m\u001b[0m\n",
      "\u001b[0;32m~/open-analog-ics/BAIcO/src/optimizers.py\u001b[0m in \u001b[0;36mindividual\u001b[0;34m(self, pop_vars)\u001b[0m\n\u001b[1;32m     74\u001b[0m         \u001b[0;34m:\u001b[0m\u001b[0;32mreturn\u001b[0m\u001b[0;34m:\u001b[0m \u001b[0;34m(\u001b[0m\u001b[0mpop_vars\u001b[0m\u001b[0;34m,\u001b[0m \u001b[0mpop_obj\u001b[0m\u001b[0;34m,\u001b[0m \u001b[0mpop_cstr\u001b[0m\u001b[0;34m)\u001b[0m\u001b[0;34m\u001b[0m\u001b[0;34m\u001b[0m\u001b[0m\n\u001b[1;32m     75\u001b[0m         \"\"\"\n\u001b[0;32m---> 76\u001b[0;31m         \u001b[0mpop_obj\u001b[0m\u001b[0;34m,\u001b[0m \u001b[0mpop_cstr\u001b[0m\u001b[0;34m,\u001b[0m \u001b[0mpop_data\u001b[0m \u001b[0;34m=\u001b[0m \u001b[0mself\u001b[0m\u001b[0;34m.\u001b[0m\u001b[0mcost_fun\u001b[0m\u001b[0;34m(\u001b[0m\u001b[0mpop_vars\u001b[0m\u001b[0;34m)\u001b[0m\u001b[0;34m\u001b[0m\u001b[0;34m\u001b[0m\u001b[0m\n\u001b[0m\u001b[1;32m     77\u001b[0m         \u001b[0;32mreturn\u001b[0m \u001b[0;34m(\u001b[0m\u001b[0mpop_vars\u001b[0m\u001b[0;34m,\u001b[0m \u001b[0mpop_obj\u001b[0m\u001b[0;34m,\u001b[0m \u001b[0mpop_cstr\u001b[0m\u001b[0;34m,\u001b[0m \u001b[0mpop_data\u001b[0m\u001b[0;34m)\u001b[0m\u001b[0;34m\u001b[0m\u001b[0;34m\u001b[0m\u001b[0m\n\u001b[1;32m     78\u001b[0m \u001b[0;34m\u001b[0m\u001b[0m\n",
      "\u001b[0;32m~/open-analog-ics/BAIcO/src/circuits.py\u001b[0m in \u001b[0;36mcost_fun\u001b[0;34m(self, x)\u001b[0m\n\u001b[1;32m    115\u001b[0m         \u001b[0mcstr\u001b[0m \u001b[0;34m=\u001b[0m \u001b[0mnp\u001b[0m\u001b[0;34m.\u001b[0m\u001b[0mzeros\u001b[0m\u001b[0;34m(\u001b[0m\u001b[0;34m(\u001b[0m\u001b[0mn\u001b[0m\u001b[0;34m,\u001b[0m \u001b[0;36m1\u001b[0m\u001b[0;34m)\u001b[0m\u001b[0;34m)\u001b[0m\u001b[0;34m\u001b[0m\u001b[0;34m\u001b[0m\u001b[0m\n\u001b[1;32m    116\u001b[0m         \u001b[0mdata\u001b[0m \u001b[0;34m=\u001b[0m \u001b[0;34m[\u001b[0m\u001b[0;32mNone\u001b[0m\u001b[0;34m]\u001b[0m\u001b[0;34m*\u001b[0m\u001b[0mn\u001b[0m\u001b[0;34m\u001b[0m\u001b[0;34m\u001b[0m\u001b[0m\n\u001b[0;32m--> 117\u001b[0;31m         \u001b[0mmeasures\u001b[0m \u001b[0;34m=\u001b[0m \u001b[0mself\u001b[0m\u001b[0;34m.\u001b[0m\u001b[0msimulate\u001b[0m\u001b[0;34m(\u001b[0m\u001b[0mx\u001b[0m\u001b[0;34m)\u001b[0m\u001b[0;34m\u001b[0m\u001b[0;34m\u001b[0m\u001b[0m\n\u001b[0m\u001b[1;32m    118\u001b[0m \u001b[0;34m\u001b[0m\u001b[0m\n\u001b[1;32m    119\u001b[0m         \u001b[0;32mfor\u001b[0m \u001b[0mi\u001b[0m \u001b[0;32min\u001b[0m \u001b[0mrange\u001b[0m\u001b[0;34m(\u001b[0m\u001b[0mn\u001b[0m\u001b[0;34m)\u001b[0m\u001b[0;34m:\u001b[0m\u001b[0;34m\u001b[0m\u001b[0;34m\u001b[0m\u001b[0m\n",
      "\u001b[0;32m~/open-analog-ics/BAIcO/src/circuits.py\u001b[0m in \u001b[0;36msimulate\u001b[0;34m(self, values)\u001b[0m\n\u001b[1;32m     89\u001b[0m \u001b[0;34m\u001b[0m\u001b[0m\n\u001b[1;32m     90\u001b[0m \u001b[0;34m\u001b[0m\u001b[0m\n\u001b[0;32m---> 91\u001b[0;31m         \u001b[0msim_results\u001b[0m \u001b[0;34m=\u001b[0m \u001b[0mself\u001b[0m\u001b[0;34m.\u001b[0m\u001b[0mngspice\u001b[0m\u001b[0;34m.\u001b[0m\u001b[0msimulate\u001b[0m\u001b[0;34m(\u001b[0m \u001b[0mparameter_values\u001b[0m\u001b[0;34m)\u001b[0m\u001b[0;34m\u001b[0m\u001b[0;34m\u001b[0m\u001b[0m\n\u001b[0m\u001b[1;32m     92\u001b[0m \u001b[0;34m\u001b[0m\u001b[0m\n\u001b[1;32m     93\u001b[0m         \u001b[0;32mreturn\u001b[0m \u001b[0msim_results\u001b[0m\u001b[0;34m\u001b[0m\u001b[0;34m\u001b[0m\u001b[0m\n",
      "\u001b[0;32m~/open-analog-ics/BAIcO/src/ngspice.py\u001b[0m in \u001b[0;36msimulate\u001b[0;34m(self, values)\u001b[0m\n\u001b[1;32m    285\u001b[0m                     sim_results[i], values[i,:]))\n\u001b[1;32m    286\u001b[0m \u001b[0;34m\u001b[0m\u001b[0m\n\u001b[0;32m--> 287\u001b[0;31m         \u001b[0mself\u001b[0m\u001b[0;34m.\u001b[0m\u001b[0mq\u001b[0m\u001b[0;34m.\u001b[0m\u001b[0mjoin\u001b[0m\u001b[0;34m(\u001b[0m\u001b[0;34m)\u001b[0m\u001b[0;34m\u001b[0m\u001b[0;34m\u001b[0m\u001b[0m\n\u001b[0m\u001b[1;32m    288\u001b[0m \u001b[0;34m\u001b[0m\u001b[0m\n\u001b[1;32m    289\u001b[0m         \u001b[0;31m# consider to create/update worker threads for this also\u001b[0m\u001b[0;34m\u001b[0m\u001b[0;34m\u001b[0m\u001b[0;34m\u001b[0m\u001b[0m\n",
      "\u001b[0;32m/usr/lib/python3.8/queue.py\u001b[0m in \u001b[0;36mjoin\u001b[0;34m(self)\u001b[0m\n\u001b[1;32m     87\u001b[0m         \u001b[0;32mwith\u001b[0m \u001b[0mself\u001b[0m\u001b[0;34m.\u001b[0m\u001b[0mall_tasks_done\u001b[0m\u001b[0;34m:\u001b[0m\u001b[0;34m\u001b[0m\u001b[0;34m\u001b[0m\u001b[0m\n\u001b[1;32m     88\u001b[0m             \u001b[0;32mwhile\u001b[0m \u001b[0mself\u001b[0m\u001b[0;34m.\u001b[0m\u001b[0munfinished_tasks\u001b[0m\u001b[0;34m:\u001b[0m\u001b[0;34m\u001b[0m\u001b[0;34m\u001b[0m\u001b[0m\n\u001b[0;32m---> 89\u001b[0;31m                 \u001b[0mself\u001b[0m\u001b[0;34m.\u001b[0m\u001b[0mall_tasks_done\u001b[0m\u001b[0;34m.\u001b[0m\u001b[0mwait\u001b[0m\u001b[0;34m(\u001b[0m\u001b[0;34m)\u001b[0m\u001b[0;34m\u001b[0m\u001b[0;34m\u001b[0m\u001b[0m\n\u001b[0m\u001b[1;32m     90\u001b[0m \u001b[0;34m\u001b[0m\u001b[0m\n\u001b[1;32m     91\u001b[0m     \u001b[0;32mdef\u001b[0m \u001b[0mqsize\u001b[0m\u001b[0;34m(\u001b[0m\u001b[0mself\u001b[0m\u001b[0;34m)\u001b[0m\u001b[0;34m:\u001b[0m\u001b[0;34m\u001b[0m\u001b[0;34m\u001b[0m\u001b[0m\n",
      "\u001b[0;32m/usr/lib/python3.8/threading.py\u001b[0m in \u001b[0;36mwait\u001b[0;34m(self, timeout)\u001b[0m\n\u001b[1;32m    300\u001b[0m         \u001b[0;32mtry\u001b[0m\u001b[0;34m:\u001b[0m    \u001b[0;31m# restore state no matter what (e.g., KeyboardInterrupt)\u001b[0m\u001b[0;34m\u001b[0m\u001b[0;34m\u001b[0m\u001b[0m\n\u001b[1;32m    301\u001b[0m             \u001b[0;32mif\u001b[0m \u001b[0mtimeout\u001b[0m \u001b[0;32mis\u001b[0m \u001b[0;32mNone\u001b[0m\u001b[0;34m:\u001b[0m\u001b[0;34m\u001b[0m\u001b[0;34m\u001b[0m\u001b[0m\n\u001b[0;32m--> 302\u001b[0;31m                 \u001b[0mwaiter\u001b[0m\u001b[0;34m.\u001b[0m\u001b[0macquire\u001b[0m\u001b[0;34m(\u001b[0m\u001b[0;34m)\u001b[0m\u001b[0;34m\u001b[0m\u001b[0;34m\u001b[0m\u001b[0m\n\u001b[0m\u001b[1;32m    303\u001b[0m                 \u001b[0mgotit\u001b[0m \u001b[0;34m=\u001b[0m \u001b[0;32mTrue\u001b[0m\u001b[0;34m\u001b[0m\u001b[0;34m\u001b[0m\u001b[0m\n\u001b[1;32m    304\u001b[0m             \u001b[0;32melse\u001b[0m\u001b[0;34m:\u001b[0m\u001b[0;34m\u001b[0m\u001b[0;34m\u001b[0m\u001b[0m\n",
      "\u001b[0;31mKeyboardInterrupt\u001b[0m: "
     ]
    }
   ],
   "source": [
    "import random\n",
    "from datetime import datetime\n",
    "import numpy as np\n",
    "import pandas as pd\n",
    "import os\n",
    "\n",
    "\n",
    "seed = 42\n",
    "np.random.seed(seed)\n",
    "random.seed(seed)\n",
    "nsga2 = opt.NSGA2()\n",
    "\n",
    "output_folder = \"./run/ptm130_folded_cascode/\"\n",
    "\n",
    "\n",
    "if not os.path.exists(output_folder):\n",
    "    os.makedirs(output_folder)\n",
    "\n",
    "\n",
    "i = 0\n",
    "folded_cascode = cir.Circuit(\"./circuit_examples/ptm130_folded_cascode/\", corners=None)\n",
    "for pop, pop_obj,  pop_cstr, pop_data, evals, front_no in nsga2.minimize(\n",
    "        folded_cascode,pop_size=256, evaluations=256*100, mutation=0.1, crossover=0.6):\n",
    "        \n",
    "        print(i, pop_cstr[pop_cstr.argmax()], datetime.now().time())\n",
    "        with open(\"{}history256_{}_{}.json\".format(output_folder,seed, i), \"w\") as file: \n",
    "            json.dump(\n",
    "            {\n",
    "                \"pop\":json.loads(pd.DataFrame(data=pop, columns=folded_cascode.parameters).to_json(orient=\"records\")),\n",
    "                \"obj\":json.loads(pd.DataFrame(data=pop_obj, columns=folded_cascode.objectives).to_json(orient=\"records\")),\n",
    "                \"cstr\":pop_cstr.tolist(),\n",
    "                \"data\":pop_data,\n",
    "                \"evals\":evals,\n",
    "                \"fn\":[ str(fn) for fn in front_no.tolist()]\n",
    "            },\n",
    "            file  \n",
    "            )\n",
    "        i = i + 1\n"
   ]
  },
  {
   "cell_type": "code",
   "execution_count": null,
   "metadata": {},
   "outputs": [],
   "source": [
    "import plot_utils \n",
    "importlib.reload(plot_utils)\n",
    "\n",
    "plot_utils.plt_pof([\"{}history256_{}_{}.json\".format(output_folder,seed, 100)], scales = [(\"[uA]\", 1e6),(\"[MHz]\", 1e-6),(\"[dB]\", 1.0)])\n",
    "\n"
   ]
  },
  {
   "source": [],
   "cell_type": "markdown",
   "metadata": {}
  },
  {
   "cell_type": "code",
   "execution_count": 1,
   "metadata": {},
   "outputs": [
    {
     "output_type": "stream",
     "name": "stdout",
     "text": [
      "['/home/nlourenco/open-analog-ics/BAIcO', '/home/nlourenco/open-analog-ics/BAIcO/src', '/home/nlourenco/open-analog-ics/BAIcO/test', '/home/nlourenco/open-analog-ics/BAIcO/notebooks', '/home/nlourenco/.vscode-server/extensions/ms-toolsai.jupyter-2021.6.999406279/pythonFiles', '/home/nlourenco/.vscode-server/extensions/ms-toolsai.jupyter-2021.6.999406279/pythonFiles/lib/python', '/usr/lib/python38.zip', '/usr/lib/python3.8', '/usr/lib/python3.8/lib-dynload', '', '/home/nlourenco/open-analog-ics/BAIcO/myvenv/lib/python3.8/site-packages', '/home/nlourenco/open-analog-ics/BAIcO/myvenv/lib/python3.8/site-packages/IPython/extensions', '/home/nlourenco/.ipython']\n"
     ]
    }
   ],
   "source": [
    "import sys\n",
    "print(sys.path)\n",
    "\n"
   ]
  },
  {
   "cell_type": "code",
   "execution_count": null,
   "metadata": {},
   "outputs": [],
   "source": []
  }
 ]
}